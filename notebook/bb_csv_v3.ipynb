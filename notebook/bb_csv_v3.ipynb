{
 "cells": [
  {
   "cell_type": "markdown",
   "metadata": {},
   "source": [
    "# Banking Fraud with various Predictions"
   ]
  },
  {
   "cell_type": "markdown",
   "metadata": {},
   "source": [
    "## Contents\n",
    "\n",
    "1. [Background](#Background)\n",
    "2. [Setup](#Setup)\n",
    "3. [Data](#Data)\n",
    "4. [Exploratory Data Analysis](#Exploratory-Data-Analysis)\n",
    "    1. [Investigating the distribution of fraudulent values](#Investigating-the-distribution-of-fraudulent-values)\n",
    "    2. [Investigating transaction flows](#Investigating-transaction-flows)\n",
    "    3. [Investigating account names](#Investigating-account-names)\n",
    "    4. [Investigating transactions](#Investigating-transactions)\n",
    "    5. [Investigating time](#Investigating-time)\n",
    "5. [Feature Engineering](#Feature-Engineering)\n",
    "   1. [Removing columns and specific types](#Removing-columns-and-specific-types)\n",
    "   2. [Adding the **hourOfDay** feature](#Adding-the-hourOfDay-feature)\n",
    "   3. [Changing categorical values](#Changing-categorical-values)\n",
    "   4. [Splitting and standardising](#Splitting-and-standardising)\n",
    "6. [Problems with data](#Problems-with-data)\n",
    "7. [Models](#Models)"
   ]
  },
  {
   "cell_type": "markdown",
   "metadata": {},
   "source": [
    "## Background"
   ]
  },
  {
   "cell_type": "markdown",
   "metadata": {},
   "source": [
    "There is a lack of public available datasets on financial services and specially in the emerging mobile money transactions domain. Financial datasets are important to many researchers and in particular to us performing research in the domain of fraud detection. Part of the problem is the intrinsically private nature of financial transactions, that leads to no publicly available datasets."
   ]
  },
  {
   "cell_type": "markdown",
   "metadata": {},
   "source": [
    "Presented here is a synthetic dataset generated using the simulator called PaySim as an approach to such a problem. PaySim uses aggregated data from the private dataset to generate a synthetic dataset that resembles the normal operation of transactions and injects malicious behaviour to later evaluate the performance of fraud detection methods."
   ]
  },
  {
   "cell_type": "markdown",
   "metadata": {},
   "source": [
    "## Setup"
   ]
  },
  {
   "cell_type": "markdown",
   "metadata": {},
   "source": [
    "Import AWS specific modules and specify S3 data location"
   ]
  },
  {
   "cell_type": "code",
   "execution_count": 1,
   "metadata": {},
   "outputs": [],
   "source": [
    "# ! pip install seaborn\n",
    "# import sys\n",
    "# !{sys.executable} -m pip install --upgrade seaborn\n",
    "# !{sys.executable} -m pip install --upgrade imbalanced-learn\n",
    "\n",
    "import boto3\n",
    "import os\n",
    "from random import seed, sample\n",
    "import sagemaker\n",
    "import sagemaker.amazon.amazon_estimator\n",
    "from sagemaker import get_execution_role\n",
    "from sagemaker.serializers import CSVSerializer"
   ]
  },
  {
   "cell_type": "markdown",
   "metadata": {},
   "source": [
    "Import python ML modules"
   ]
  },
  {
   "cell_type": "code",
   "execution_count": 2,
   "metadata": {},
   "outputs": [],
   "source": [
    "import matplotlib.pyplot as plt\n",
    "import matplotlib.lines as mlines\n",
    "%matplotlib inline\n",
    "\n",
    "import numpy as np\n",
    "import pandas as pd\n",
    "import seaborn as sns\n",
    "sns.set_theme()\n",
    "sns.set_context(\"paper\")\n",
    "\n",
    "from sklearn.decomposition import PCA\n",
    "from sklearn.model_selection import cross_val_predict, cross_val_score, train_test_split\n",
    "from sklearn import preprocessing\n",
    "from sklearn.preprocessing import MinMaxScaler, RobustScaler, StandardScaler\n",
    "from sklearn.metrics import classification_report, confusion_matrix, roc_auc_score, accuracy_score, roc_curve, auc, precision_score, recall_score\n",
    "\n",
    "from sklearn.ensemble import RandomForestClassifier\n",
    "# from xgboost.sklearn import XGBClassifier"
   ]
  },
  {
   "cell_type": "code",
   "execution_count": 3,
   "metadata": {},
   "outputs": [],
   "source": [
    "bucket = 'sagemaker-pmelvin'\n",
    "prefix = 'compile_xgb_v3'\n",
    "hp_prefix = 'hp_tuning_v3'\n",
    "\n",
    "csv_data = 'input-data/bb_banking_fraud.csv'\n",
    "csv_removed_types = 'input-data/removed-specific-types/01a89090-e9b6-4b07-8a49-b0244d6dc035.csv'\n",
    "data_location = 's3://{}/{}'.format(bucket, csv_data)\n",
    "#local_file = 'bb_banking_fraud.csv'\n",
    "\n",
    "role = get_execution_role()\n",
    "sess = sagemaker.Session()\n",
    "smclient = boto3.Session().client('sagemaker')"
   ]
  },
  {
   "cell_type": "markdown",
   "metadata": {},
   "source": [
    "## Data"
   ]
  },
  {
   "cell_type": "markdown",
   "metadata": {},
   "source": [
    "Import data and perform initial analysis (CSV from S3)"
   ]
  },
  {
   "cell_type": "code",
   "execution_count": 4,
   "metadata": {},
   "outputs": [
    {
     "name": "stdout",
     "output_type": "stream",
     "text": [
      "CPU times: user 9.52 s, sys: 1.96 s, total: 11.5 s\n",
      "Wall time: 27.6 s\n"
     ]
    }
   ],
   "source": [
    "%%time\n",
    "df = pd.read_csv(data_location)"
   ]
  },
  {
   "cell_type": "code",
   "execution_count": 5,
   "metadata": {},
   "outputs": [],
   "source": [
    "df = df.rename(columns={'oldbalanceOrg':'oldBalanceOrig', 'newbalanceOrig':'newBalanceOrig', \\\n",
    "                        'oldbalancedest':'oldBalanceDest', 'newbalanceDest':'newBalanceDest'})"
   ]
  },
  {
   "cell_type": "code",
   "execution_count": 6,
   "metadata": {},
   "outputs": [
    {
     "data": {
      "text/html": [
       "<div>\n",
       "<style scoped>\n",
       "    .dataframe tbody tr th:only-of-type {\n",
       "        vertical-align: middle;\n",
       "    }\n",
       "\n",
       "    .dataframe tbody tr th {\n",
       "        vertical-align: top;\n",
       "    }\n",
       "\n",
       "    .dataframe thead th {\n",
       "        text-align: right;\n",
       "    }\n",
       "</style>\n",
       "<table border=\"1\" class=\"dataframe\">\n",
       "  <thead>\n",
       "    <tr style=\"text-align: right;\">\n",
       "      <th></th>\n",
       "      <th>step</th>\n",
       "      <th>type</th>\n",
       "      <th>amount</th>\n",
       "      <th>nameOrig</th>\n",
       "      <th>oldBalanceOrig</th>\n",
       "      <th>newBalanceOrig</th>\n",
       "      <th>nameDest</th>\n",
       "      <th>oldbalanceDest</th>\n",
       "      <th>newBalanceDest</th>\n",
       "      <th>isFraud</th>\n",
       "      <th>isFlaggedFraud</th>\n",
       "    </tr>\n",
       "  </thead>\n",
       "  <tbody>\n",
       "    <tr>\n",
       "      <th>0</th>\n",
       "      <td>1</td>\n",
       "      <td>PAYMENT</td>\n",
       "      <td>9839.64</td>\n",
       "      <td>C1231006815</td>\n",
       "      <td>170136.0</td>\n",
       "      <td>160296.36</td>\n",
       "      <td>M1979787155</td>\n",
       "      <td>0.0</td>\n",
       "      <td>0.0</td>\n",
       "      <td>0</td>\n",
       "      <td>0</td>\n",
       "    </tr>\n",
       "    <tr>\n",
       "      <th>1</th>\n",
       "      <td>1</td>\n",
       "      <td>PAYMENT</td>\n",
       "      <td>1864.28</td>\n",
       "      <td>C1666544295</td>\n",
       "      <td>21249.0</td>\n",
       "      <td>19384.72</td>\n",
       "      <td>M2044282225</td>\n",
       "      <td>0.0</td>\n",
       "      <td>0.0</td>\n",
       "      <td>0</td>\n",
       "      <td>0</td>\n",
       "    </tr>\n",
       "    <tr>\n",
       "      <th>2</th>\n",
       "      <td>1</td>\n",
       "      <td>TRANSFER</td>\n",
       "      <td>181.00</td>\n",
       "      <td>C1305486145</td>\n",
       "      <td>181.0</td>\n",
       "      <td>0.00</td>\n",
       "      <td>C553264065</td>\n",
       "      <td>0.0</td>\n",
       "      <td>0.0</td>\n",
       "      <td>1</td>\n",
       "      <td>0</td>\n",
       "    </tr>\n",
       "    <tr>\n",
       "      <th>3</th>\n",
       "      <td>1</td>\n",
       "      <td>CASH_OUT</td>\n",
       "      <td>181.00</td>\n",
       "      <td>C840083671</td>\n",
       "      <td>181.0</td>\n",
       "      <td>0.00</td>\n",
       "      <td>C38997010</td>\n",
       "      <td>21182.0</td>\n",
       "      <td>0.0</td>\n",
       "      <td>1</td>\n",
       "      <td>0</td>\n",
       "    </tr>\n",
       "    <tr>\n",
       "      <th>4</th>\n",
       "      <td>1</td>\n",
       "      <td>PAYMENT</td>\n",
       "      <td>11668.14</td>\n",
       "      <td>C2048537720</td>\n",
       "      <td>41554.0</td>\n",
       "      <td>29885.86</td>\n",
       "      <td>M1230701703</td>\n",
       "      <td>0.0</td>\n",
       "      <td>0.0</td>\n",
       "      <td>0</td>\n",
       "      <td>0</td>\n",
       "    </tr>\n",
       "  </tbody>\n",
       "</table>\n",
       "</div>"
      ],
      "text/plain": [
       "   step      type    amount     nameOrig  oldBalanceOrig  newBalanceOrig  \\\n",
       "0     1   PAYMENT   9839.64  C1231006815        170136.0       160296.36   \n",
       "1     1   PAYMENT   1864.28  C1666544295         21249.0        19384.72   \n",
       "2     1  TRANSFER    181.00  C1305486145           181.0            0.00   \n",
       "3     1  CASH_OUT    181.00   C840083671           181.0            0.00   \n",
       "4     1   PAYMENT  11668.14  C2048537720         41554.0        29885.86   \n",
       "\n",
       "      nameDest  oldbalanceDest  newBalanceDest  isFraud  isFlaggedFraud  \n",
       "0  M1979787155             0.0             0.0        0               0  \n",
       "1  M2044282225             0.0             0.0        0               0  \n",
       "2   C553264065             0.0             0.0        1               0  \n",
       "3    C38997010         21182.0             0.0        1               0  \n",
       "4  M1230701703             0.0             0.0        0               0  "
      ]
     },
     "execution_count": 6,
     "metadata": {},
     "output_type": "execute_result"
    }
   ],
   "source": [
    "df.head(n=5)"
   ]
  },
  {
   "cell_type": "code",
   "execution_count": 7,
   "metadata": {},
   "outputs": [
    {
     "data": {
      "text/plain": [
       "(6362620, 11)"
      ]
     },
     "execution_count": 7,
     "metadata": {},
     "output_type": "execute_result"
    }
   ],
   "source": [
    "df.shape"
   ]
  },
  {
   "cell_type": "code",
   "execution_count": 8,
   "metadata": {},
   "outputs": [
    {
     "name": "stdout",
     "output_type": "stream",
     "text": [
      "<class 'pandas.core.frame.DataFrame'>\n",
      "RangeIndex: 6362620 entries, 0 to 6362619\n",
      "Data columns (total 11 columns):\n",
      " #   Column          Dtype  \n",
      "---  ------          -----  \n",
      " 0   step            int64  \n",
      " 1   type            object \n",
      " 2   amount          float64\n",
      " 3   nameOrig        object \n",
      " 4   oldBalanceOrig  float64\n",
      " 5   newBalanceOrig  float64\n",
      " 6   nameDest        object \n",
      " 7   oldbalanceDest  float64\n",
      " 8   newBalanceDest  float64\n",
      " 9   isFraud         int64  \n",
      " 10  isFlaggedFraud  int64  \n",
      "dtypes: float64(5), int64(3), object(3)\n",
      "memory usage: 534.0+ MB\n"
     ]
    }
   ],
   "source": [
    "df.info()"
   ]
  },
  {
   "cell_type": "markdown",
   "metadata": {},
   "source": [
    "As we can see from above, the dataset has roughly 6.5 million records, where each record uses 11 attributes (features) to describe the profile of the transactions. The attributes are:\n",
    "- `step`: maps a unit of time in the real world. In this case 1 step is 1 hour of time\n",
    "- `type`: CASH-IN, CASH-OUT, DEBIT, PAYMENT and TRANSFER\n",
    "- `amount`: the amount of the transaction in local currency\n",
    "- `nameOrig`: the customer who started the transaction\n",
    "- `oldBalanceOrig`: the initial balance before the transaction\n",
    "- `newBalanceOrig`: the customer's balance after the transaction\n",
    "- `nameDest`: the recipient ID of the transaction\n",
    "- `oldBalanceDest`: the initial recipient balance before the transaction\n",
    "- `newBalanceDest`: the recipient's balance after the transaction\n",
    "- `isFraud`: this identifies a fraudulent transaction (1) and non fraudulent (0)\n",
    "- `isFlaggedFraud`: this identifies a flagged fraudulent transaction"
   ]
  },
  {
   "cell_type": "markdown",
   "metadata": {},
   "source": [
    "# Exploratory Data Analysis"
   ]
  },
  {
   "cell_type": "markdown",
   "metadata": {},
   "source": [
    "First we check to see if there are any missing values"
   ]
  },
  {
   "cell_type": "code",
   "execution_count": 9,
   "metadata": {},
   "outputs": [
    {
     "data": {
      "text/plain": [
       "False"
      ]
     },
     "execution_count": 9,
     "metadata": {},
     "output_type": "execute_result"
    }
   ],
   "source": [
    "df.isnull().values.any()"
   ]
  },
  {
   "cell_type": "markdown",
   "metadata": {},
   "source": [
    "## Investigating the distribution of fraudulent values"
   ]
  },
  {
   "cell_type": "markdown",
   "metadata": {},
   "source": [
    "We know there are five transaction types, lets see how the are distributed"
   ]
  },
  {
   "cell_type": "code",
   "execution_count": 10,
   "metadata": {},
   "outputs": [
    {
     "name": "stdout",
     "output_type": "stream",
     "text": [
      "CASH_OUT    2237500\n",
      "PAYMENT     2151495\n",
      "CASH_IN     1399284\n",
      "TRANSFER     532909\n",
      "DEBIT         41432\n",
      "Name: type, dtype: int64\n",
      "\n"
     ]
    },
    {
     "data": {
      "image/png": "[encoded data removed]",
      "text/plain": [
       "<Figure size 432x288 with 1 Axes>"
      ]
     },
     "metadata": {},
     "output_type": "display_data"
    }
   ],
   "source": [
    "print(df.type.value_counts())\n",
    "print()\n",
    "\n",
    "fig = plt.subplots(figsize=(6,4))\n",
    "ax = df.type.value_counts().plot(kind='bar', title=\"Transaction type\")\n",
    "ax.set_ylabel(\"Number of transactions\")\n",
    "plt.show()"
   ]
  },
  {
   "cell_type": "markdown",
   "metadata": {},
   "source": [
    "We also know that there are two features that look interesting **isFraud** and **isFlaggedFraud** and from the description _isFraud_ indicates actual fraudulent transactions whereas _isFlaggedFraud_ is when the system prevents the transaction due to some condition\n",
    "\n",
    "Lets see how many transactions are fraudulent"
   ]
  },
  {
   "cell_type": "code",
   "execution_count": 11,
   "metadata": {},
   "outputs": [
    {
     "data": {
      "image/png": "[encoded data removed]",
      "text/plain": [
       "<Figure size 432x288 with 1 Axes>"
      ]
     },
     "metadata": {},
     "output_type": "display_data"
    }
   ],
   "source": [
    "fig = plt.subplots(figsize=(6,4))\n",
    "sns.countplot(x='type', hue='isFraud', data=df, order = df['type'].value_counts().index)\n",
    "plt.show()"
   ]
  },
  {
   "cell_type": "markdown",
   "metadata": {},
   "source": [
    "Its clear there are some fraudulent transactions but it is very difficult to see how many as in comparison to the entire dataset the amount is tiny\n",
    "\n",
    "Therefore, lets find out how many are actual fraud and in what type"
   ]
  },
  {
   "cell_type": "code",
   "execution_count": 12,
   "metadata": {},
   "outputs": [
    {
     "data": {
      "image/png": "[encoded data removed]",
      "text/plain": [
       "<Figure size 432x288 with 1 Axes>"
      ]
     },
     "metadata": {},
     "output_type": "display_data"
    }
   ],
   "source": [
    "fig = plt.subplots(figsize=(6,4))\n",
    "ax = df.groupby(['type', 'isFraud']).size().plot(kind='bar')\n",
    "ax.set_xlabel(\"(type, isFraud)\")\n",
    "ax.set_ylabel(\"Number of transactions\")\n",
    "\n",
    "for p in ax.patches:\n",
    "    ax.annotate(str(format(int(p.get_height()), ',d')), (p.get_x(), p.get_height()*1.01))\n",
    "plt.show()"
   ]
  },
  {
   "cell_type": "markdown",
   "metadata": {},
   "source": [
    "From the above it looks like that only **CASH_OUT** and **TRANSFER** have actual fraudulent transactions\n",
    "\n",
    "Now lets have a look at which transactions are being flagged as fraudulent"
   ]
  },
  {
   "cell_type": "code",
   "execution_count": 13,
   "metadata": {},
   "outputs": [
    {
     "data": {
      "image/png": "[encoded data removed]",
      "text/plain": [
       "<Figure size 432x288 with 1 Axes>"
      ]
     },
     "metadata": {},
     "output_type": "display_data"
    }
   ],
   "source": [
    "fig = plt.subplots(figsize=(6,4))\n",
    "sns.countplot(x='type', hue='isFlaggedFraud', data=df, order = df['type'].value_counts().index)\n",
    "plt.show()"
   ]
  },
  {
   "cell_type": "markdown",
   "metadata": {},
   "source": [
    "Unlike **isFraud** we cannot even see which are flagged as fraudulent so lets find out which type"
   ]
  },
  {
   "cell_type": "code",
   "execution_count": 14,
   "metadata": {},
   "outputs": [
    {
     "data": {
      "image/png": "[encoded data removed]",
      "text/plain": [
       "<Figure size 432x288 with 1 Axes>"
      ]
     },
     "metadata": {},
     "output_type": "display_data"
    }
   ],
   "source": [
    "fig = plt.subplots(figsize=(6,4))\n",
    "ax = df.groupby(['type', 'isFlaggedFraud']).size().plot(kind='bar')\n",
    "ax.set_xlabel(\"(type, isFlaggedFraud)\")\n",
    "ax.set_ylabel(\"Number of transactions\")\n",
    "\n",
    "for p in ax.patches:\n",
    "    ax.annotate(str(format(int(p.get_height()), ',d')), (p.get_x(), p.get_height()*1.01))\n",
    "plt.show()"
   ]
  },
  {
   "cell_type": "markdown",
   "metadata": {},
   "source": [
    "From the above plot it looks like that only **TRANSFER** has any flagged transactions and the amount is only 16 records out of 6.5 million!\n",
    "\n",
    "Due to the insignificant percentage we can also remove th **isFlaggedFraud** feature as well\n",
    "\n",
    "So we now know that we can focus on **CASH_OUT** and **TRANSFER** and remove the other types, now let's have a look at the source and direction of the transcactions"
   ]
  },
  {
   "cell_type": "markdown",
   "metadata": {},
   "source": [
    "## Investigating transaction flows"
   ]
  },
  {
   "cell_type": "markdown",
   "metadata": {},
   "source": [
    "Just as a recap let's look at some of our data"
   ]
  },
  {
   "cell_type": "code",
   "execution_count": 15,
   "metadata": {},
   "outputs": [
    {
     "data": {
      "text/html": [
       "<div>\n",
       "<style scoped>\n",
       "    .dataframe tbody tr th:only-of-type {\n",
       "        vertical-align: middle;\n",
       "    }\n",
       "\n",
       "    .dataframe tbody tr th {\n",
       "        vertical-align: top;\n",
       "    }\n",
       "\n",
       "    .dataframe thead th {\n",
       "        text-align: right;\n",
       "    }\n",
       "</style>\n",
       "<table border=\"1\" class=\"dataframe\">\n",
       "  <thead>\n",
       "    <tr style=\"text-align: right;\">\n",
       "      <th></th>\n",
       "      <th>step</th>\n",
       "      <th>type</th>\n",
       "      <th>amount</th>\n",
       "      <th>nameOrig</th>\n",
       "      <th>oldBalanceOrig</th>\n",
       "      <th>newBalanceOrig</th>\n",
       "      <th>nameDest</th>\n",
       "      <th>oldbalanceDest</th>\n",
       "      <th>newBalanceDest</th>\n",
       "      <th>isFraud</th>\n",
       "      <th>isFlaggedFraud</th>\n",
       "    </tr>\n",
       "  </thead>\n",
       "  <tbody>\n",
       "    <tr>\n",
       "      <th>0</th>\n",
       "      <td>1</td>\n",
       "      <td>PAYMENT</td>\n",
       "      <td>9839.64</td>\n",
       "      <td>C1231006815</td>\n",
       "      <td>170136.0</td>\n",
       "      <td>160296.36</td>\n",
       "      <td>M1979787155</td>\n",
       "      <td>0.0</td>\n",
       "      <td>0.0</td>\n",
       "      <td>0</td>\n",
       "      <td>0</td>\n",
       "    </tr>\n",
       "    <tr>\n",
       "      <th>1</th>\n",
       "      <td>1</td>\n",
       "      <td>PAYMENT</td>\n",
       "      <td>1864.28</td>\n",
       "      <td>C1666544295</td>\n",
       "      <td>21249.0</td>\n",
       "      <td>19384.72</td>\n",
       "      <td>M2044282225</td>\n",
       "      <td>0.0</td>\n",
       "      <td>0.0</td>\n",
       "      <td>0</td>\n",
       "      <td>0</td>\n",
       "    </tr>\n",
       "    <tr>\n",
       "      <th>2</th>\n",
       "      <td>1</td>\n",
       "      <td>TRANSFER</td>\n",
       "      <td>181.00</td>\n",
       "      <td>C1305486145</td>\n",
       "      <td>181.0</td>\n",
       "      <td>0.00</td>\n",
       "      <td>C553264065</td>\n",
       "      <td>0.0</td>\n",
       "      <td>0.0</td>\n",
       "      <td>1</td>\n",
       "      <td>0</td>\n",
       "    </tr>\n",
       "    <tr>\n",
       "      <th>3</th>\n",
       "      <td>1</td>\n",
       "      <td>CASH_OUT</td>\n",
       "      <td>181.00</td>\n",
       "      <td>C840083671</td>\n",
       "      <td>181.0</td>\n",
       "      <td>0.00</td>\n",
       "      <td>C38997010</td>\n",
       "      <td>21182.0</td>\n",
       "      <td>0.0</td>\n",
       "      <td>1</td>\n",
       "      <td>0</td>\n",
       "    </tr>\n",
       "    <tr>\n",
       "      <th>4</th>\n",
       "      <td>1</td>\n",
       "      <td>PAYMENT</td>\n",
       "      <td>11668.14</td>\n",
       "      <td>C2048537720</td>\n",
       "      <td>41554.0</td>\n",
       "      <td>29885.86</td>\n",
       "      <td>M1230701703</td>\n",
       "      <td>0.0</td>\n",
       "      <td>0.0</td>\n",
       "      <td>0</td>\n",
       "      <td>0</td>\n",
       "    </tr>\n",
       "  </tbody>\n",
       "</table>\n",
       "</div>"
      ],
      "text/plain": [
       "   step      type    amount     nameOrig  oldBalanceOrig  newBalanceOrig  \\\n",
       "0     1   PAYMENT   9839.64  C1231006815        170136.0       160296.36   \n",
       "1     1   PAYMENT   1864.28  C1666544295         21249.0        19384.72   \n",
       "2     1  TRANSFER    181.00  C1305486145           181.0            0.00   \n",
       "3     1  CASH_OUT    181.00   C840083671           181.0            0.00   \n",
       "4     1   PAYMENT  11668.14  C2048537720         41554.0        29885.86   \n",
       "\n",
       "      nameDest  oldbalanceDest  newBalanceDest  isFraud  isFlaggedFraud  \n",
       "0  M1979787155             0.0             0.0        0               0  \n",
       "1  M2044282225             0.0             0.0        0               0  \n",
       "2   C553264065             0.0             0.0        1               0  \n",
       "3    C38997010         21182.0             0.0        1               0  \n",
       "4  M1230701703             0.0             0.0        0               0  "
      ]
     },
     "execution_count": 15,
     "metadata": {},
     "output_type": "execute_result"
    }
   ],
   "source": [
    "df.head(n=5)"
   ]
  },
  {
   "cell_type": "markdown",
   "metadata": {},
   "source": [
    "We will focus on the **nameOrig** and **nameDest** and see if we can see a pattern\n",
    "\n",
    "The format for the value has either a **C** or **M** before some digits. However, the letters are not defined, and it would be reasonable to assume that **C** stands for **Customer** and **M** stands for **Merchant**, let's have a look at the relationships between transaction flows between **C** and **M**\n",
    "\n",
    "We will create a new feature called _direction_ which will correlate to the following:\n",
    "1. CC - Customer to customer\n",
    "2. CM - Customer to merchant\n",
    "3. MC - Merchant to customer\n",
    "4. MM - Merchant to merchant"
   ]
  },
  {
   "cell_type": "code",
   "execution_count": 16,
   "metadata": {},
   "outputs": [
    {
     "name": "stdout",
     "output_type": "stream",
     "text": [
      "CPU times: user 23.3 s, sys: 1.31 s, total: 24.6 s\n",
      "Wall time: 24.6 s\n"
     ]
    }
   ],
   "source": [
    "%%time\n",
    "df_direction = df.copy()\n",
    "df_direction['direction'] = np.nan\n",
    "\n",
    "df_direction.loc[df.nameOrig.str.contains('C') & df.nameDest.str.contains('C'),\"direction\"] = \"CC\" \n",
    "df_direction.loc[df.nameOrig.str.contains('C') & df.nameDest.str.contains('M'),\"direction\"] = \"CM\"\n",
    "df_direction.loc[df.nameOrig.str.contains('M') & df.nameDest.str.contains('C'),\"direction\"] = \"MC\"\n",
    "df_direction.loc[df.nameOrig.str.contains('M') & df.nameDest.str.contains('M'),\"direction\"] = \"MM\""
   ]
  },
  {
   "cell_type": "markdown",
   "metadata": {},
   "source": [
    "Let's split up the fraudulent and non-fraudlent transactions so we can refer to these later"
   ]
  },
  {
   "cell_type": "code",
   "execution_count": 17,
   "metadata": {},
   "outputs": [],
   "source": [
    "fraud = df_direction[df_direction[\"isFraud\"] == 1]\n",
    "valid = df_direction[df_direction[\"isFraud\"] == 0]"
   ]
  },
  {
   "cell_type": "code",
   "execution_count": 18,
   "metadata": {},
   "outputs": [
    {
     "name": "stdout",
     "output_type": "stream",
     "text": [
      "Fraud transactions by direction:\n",
      " CC    8213\n",
      "Name: direction, dtype: int64\n",
      "\n",
      "Valid transactions by direction:\n",
      " CC    4202912\n",
      "CM    2151495\n",
      "Name: direction, dtype: int64\n"
     ]
    }
   ],
   "source": [
    "print(\"Fraud transactions by direction:\\n\",fraud.direction.value_counts())\n",
    "print()\n",
    "print(\"Valid transactions by direction:\\n\",valid.direction.value_counts())"
   ]
  },
  {
   "cell_type": "markdown",
   "metadata": {},
   "source": [
    "From the above it looks like the only fraudulent transactions occur between customer accounts (CC) so like the type above we can remove the extraneous information when we do feature engineering\n",
    "\n",
    "Using the new table we can confirm that **CASH_OUT** and **TRANSFER** are the only types with fraudulent activity"
   ]
  },
  {
   "cell_type": "markdown",
   "metadata": {},
   "source": [
    "## Investigating account names"
   ]
  },
  {
   "cell_type": "markdown",
   "metadata": {},
   "source": [
    "We now need to figure out if the originator and the destination are the same relating to removing the money using the **CASH_OUT**\n",
    "\n",
    "First we start by confirming that only the **CASH_OUT** and **TRANSFER** have the fraudulent activities"
   ]
  },
  {
   "cell_type": "code",
   "execution_count": 19,
   "metadata": {},
   "outputs": [
    {
     "name": "stdout",
     "output_type": "stream",
     "text": [
      "Fraudulent transacions in CASH_IN 0\n",
      "Fraudulent transacions in CASH_OUT 4116\n",
      "Fraudulent transacions in DEBIT 0\n",
      "Fraudulent transacions in PAYMENT 0\n",
      "Fraudulent transacionsin TRANSFER 4097\n"
     ]
    }
   ],
   "source": [
    "cash_in=df.loc[(df.isFraud==1) & (df.type=='CASH_IN')]\n",
    "cash_out=df.loc[(df.isFraud==1) & (df.type=='CASH_OUT')]\n",
    "debit=df.loc[(df.isFraud==1) & (df.type=='DEBIT')]\n",
    "payment=df.loc[(df.isFraud==1) & (df.type=='PAYMENT')]\n",
    "transfer=df.loc[(df.isFraud==1) & (df.type=='TRANSFER')]\n",
    "\n",
    "print('Fraudulent transacions in CASH_IN',len(cash_in))\n",
    "print('Fraudulent transacions in CASH_OUT',len(cash_out))\n",
    "print('Fraudulent transacions in DEBIT',len(debit))\n",
    "print('Fraudulent transacions in PAYMENT',len(payment))\n",
    "print('Fraudulent transacionsin TRANSFER',len(transfer))"
   ]
  },
  {
   "cell_type": "markdown",
   "metadata": {},
   "source": [
    "Which they are, so that is good :) (well not really!)\n",
    "\n",
    "Now we need to test whether the account to _cashout_ is actually used to remove the money"
   ]
  },
  {
   "cell_type": "code",
   "execution_count": 20,
   "metadata": {},
   "outputs": [
    {
     "data": {
      "text/plain": [
       "False"
      ]
     },
     "execution_count": 20,
     "metadata": {},
     "output_type": "execute_result"
    }
   ],
   "source": [
    "fraud_transfer = fraud[fraud[\"type\"] == \"TRANSFER\"]\n",
    "fraud_cashout = fraud[fraud[\"type\"] == \"CASH_OUT\"]\n",
    "\n",
    "fraud_transfer.nameDest.isin(fraud_cashout.nameOrig).any()"
   ]
  },
  {
   "cell_type": "markdown",
   "metadata": {},
   "source": [
    "This returns false, so we now know that the account used to remove the fund was not the same as the one that received the funds\n",
    "\n",
    "Therefore, we can remove the **nameOrig** and **nameDest** as well"
   ]
  },
  {
   "cell_type": "markdown",
   "metadata": {},
   "source": [
    "## Investigating transactions"
   ]
  },
  {
   "cell_type": "markdown",
   "metadata": {},
   "source": [
    "What are the amounts of fraudulent vs legitimate transactions"
   ]
  },
  {
   "cell_type": "code",
   "execution_count": 21,
   "metadata": {},
   "outputs": [
    {
     "name": "stdout",
     "output_type": "stream",
     "text": [
      "Description of amounts moved in fraudulent transactions: \n",
      " count        8,213.00\n",
      "mean     1,467,967.30\n",
      "std      2,404,252.95\n",
      "min              0.00\n",
      "25%        127,091.33\n",
      "50%        441,423.44\n",
      "75%      1,517,771.48\n",
      "max     10,000,000.00\n",
      "Name: amount, dtype: float64 \n",
      "\n",
      "Description of amounts moved moved in legitimate transactions: \n",
      " count    6,354,407.00\n",
      "mean       178,197.04\n",
      "std        596,236.98\n",
      "min              0.01\n",
      "25%         13,368.40\n",
      "50%         74,684.72\n",
      "75%        208,364.76\n",
      "max     92,445,516.64\n",
      "Name: amount, dtype: float64 \n",
      "\n"
     ]
    }
   ],
   "source": [
    "pd.set_option('float_format', '{:,.2f}'.format)\n",
    "print(\"Description of amounts moved in fraudulent transactions: \\n\",pd.DataFrame.describe(fraud.amount),\"\\n\")\n",
    "print(\"Description of amounts moved moved in legitimate transactions: \\n\", pd.DataFrame.describe(valid.amount),\"\\n\")"
   ]
  },
  {
   "cell_type": "markdown",
   "metadata": {},
   "source": [
    "From the above we can clearly see that the maximum amount for a fraudulent transaction is 10 million, with the average of 1.5 million, however there is no real limit for legimate transactions (maximum of 100 million) but the average is much lower, around 200 thousand"
   ]
  },
  {
   "cell_type": "markdown",
   "metadata": {},
   "source": [
    "Now lets have a look at the balances before and after the transaction"
   ]
  },
  {
   "cell_type": "code",
   "execution_count": 22,
   "metadata": {},
   "outputs": [
    {
     "name": "stdout",
     "output_type": "stream",
     "text": [
      "% of transactions with balance errors in the originating account:  85.0\n",
      "% of transactions with balance errors in the destination account:  100.0\n"
     ]
    }
   ],
   "source": [
    "wrong_originating_bal = sum(df[\"oldBalanceOrig\"] - df[\"amount\"] != df[\"newBalanceOrig\"])\n",
    "wrong_destination_bal = sum(df[\"newBalanceDest\"] + df[\"amount\"] != df[\"newBalanceDest\"])\n",
    "\n",
    "print(\"% of transactions with balance errors in the originating account: \", 100*round(wrong_originating_bal/len(df),2))\n",
    "print(\"% of transactions with balance errors in the destination account: \", 100*round(wrong_destination_bal/len(df),2))"
   ]
  },
  {
   "cell_type": "markdown",
   "metadata": {},
   "source": [
    "So it looks like almost all of the balance/transactions have errors, so let's have a closer look"
   ]
  },
  {
   "cell_type": "code",
   "execution_count": 23,
   "metadata": {},
   "outputs": [
    {
     "name": "stdout",
     "output_type": "stream",
     "text": [
      "The number of occurances where the amount given is greater than the amount that is in the originator's account:  4,079,080\n",
      "The number of occurances where the amount received is greater than the amount that is in the receiver's account:  2,661,141\n"
     ]
    }
   ],
   "source": [
    "amount_given = sum(df[\"amount\"] > df[\"oldBalanceOrig\"])\n",
    "amount_given = \"{:,}\".format(amount_given)\n",
    "print(\"The number of occurances where the amount given is greater than the amount that is in the originator's account: \", amount_given)\n",
    "\n",
    "amount_received = sum(df[\"amount\"] > df[\"newBalanceDest\"])\n",
    "amount_received = \"{:,}\".format(amount_received)\n",
    "print(\"The number of occurances where the amount received is greater than the amount that is in the receiver's account: \", amount_received)"
   ]
  },
  {
   "cell_type": "markdown",
   "metadata": {},
   "source": [
    "So from the above we can confirm that there are some fundamental erros in the datset as normally it would be impossible to give/receive more than than is availble in your account, therefore we cannot ignore this values but simply be aware of them (and the errors within)"
   ]
  },
  {
   "cell_type": "markdown",
   "metadata": {},
   "source": [
    "## Investigating time"
   ]
  },
  {
   "cell_type": "markdown",
   "metadata": {},
   "source": [
    "For the final look at the dataset, we will look at the time or **step**\n",
    "\n",
    "We know that the **step** relates to 1 hour over a period of thrity days and we need to have a look if there is any correlation to fraudulent transactions over days or hours\n",
    "\n",
    "Let's start with having a look over the entire month"
   ]
  },
  {
   "cell_type": "code",
   "execution_count": 24,
   "metadata": {},
   "outputs": [
    {
     "data": {
      "image/png": "[encoded data removed]",
      "text/plain": [
       "<Figure size 432x288 with 1 Axes>"
      ]
     },
     "metadata": {},
     "output_type": "display_data"
    },
    {
     "data": {
      "image/png": "[encoded data removed]",
      "text/plain": [
       "<Figure size 432x288 with 1 Axes>"
      ]
     },
     "metadata": {},
     "output_type": "display_data"
    }
   ],
   "source": [
    "sns.histplot(valid, x='step', bins=30, color='seagreen')\n",
    "plt.xlabel(\"step - 1 hour\")\n",
    "plt.title(\"# of valid transactions over a month\")\n",
    "plt.show()\n",
    "\n",
    "sns.histplot(fraud, x='step', bins=30, color='indianred')\n",
    "plt.xlabel(\"step - 1 hour\")\n",
    "plt.title(\"# of fraudulent transactions over a month\")\n",
    "plt.show()"
   ]
  },
  {
   "cell_type": "markdown",
   "metadata": {},
   "source": [
    "As we can see from the above:\n",
    "- for valid transactions, the majority occurs between steps 0 - 60 and 125 - 400\n",
    "- for fraudulent transactions, there is no real pattern, they occur at all times"
   ]
  },
  {
   "cell_type": "markdown",
   "metadata": {},
   "source": [
    "Now let's have a look over a week"
   ]
  },
  {
   "cell_type": "code",
   "execution_count": 25,
   "metadata": {},
   "outputs": [
    {
     "data": {
      "image/png": "[encoded data removed]",
      "text/plain": [
       "<Figure size 432x288 with 1 Axes>"
      ]
     },
     "metadata": {},
     "output_type": "display_data"
    },
    {
     "data": {
      "image/png": "[encoded data removed]",
      "text/plain": [
       "<Figure size 432x288 with 1 Axes>"
      ]
     },
     "metadata": {},
     "output_type": "display_data"
    }
   ],
   "source": [
    "days = 7\n",
    "\n",
    "fraud_days = fraud.step % days\n",
    "valid_days = valid.step % days\n",
    "\n",
    "sns.histplot(valid_days, bins=days, color='seagreen')\n",
    "plt.xlabel(\"step - 1 day\")\n",
    "plt.title(\"# of valid transactions over a week\")\n",
    "plt.show()\n",
    "\n",
    "sns.histplot(fraud_days, bins=days, color='indianred')\n",
    "plt.xlabel(\"step - 1 day\")\n",
    "plt.title(\"# of fraudulent transactions over a week\")\n",
    "plt.show()"
   ]
  },
  {
   "cell_type": "markdown",
   "metadata": {},
   "source": [
    "From the above there is no indication that fraudulent transactions happen on a particular day, they occur every day"
   ]
  },
  {
   "cell_type": "markdown",
   "metadata": {},
   "source": [
    "Now let's have a look at hours"
   ]
  },
  {
   "cell_type": "code",
   "execution_count": 26,
   "metadata": {},
   "outputs": [
    {
     "data": {
      "image/png": "[encoded data removed]",
      "text/plain": [
       "<Figure size 432x288 with 1 Axes>"
      ]
     },
     "metadata": {},
     "output_type": "display_data"
    },
    {
     "data": {
      "image/png": "[encoded data removed]",
      "text/plain": [
       "<Figure size 432x288 with 1 Axes>"
      ]
     },
     "metadata": {},
     "output_type": "display_data"
    }
   ],
   "source": [
    "hours = 24\n",
    "\n",
    "fraud_hours = fraud.step % hours\n",
    "valid_hours = valid.step % hours\n",
    "\n",
    "sns.histplot(valid_hours, bins=hours, color='seagreen')\n",
    "plt.xlabel(\"step - 1 hour\")\n",
    "plt.title(\"# of valid transactions over a day\")\n",
    "plt.show()\n",
    "\n",
    "sns.histplot(fraud_hours, bins=hours, color='indianred')\n",
    "plt.xlabel(\"step - 1 hour\")\n",
    "plt.title(\"# of fraudulent transactions over a day\")\n",
    "plt.show()"
   ]
  },
  {
   "cell_type": "markdown",
   "metadata": {},
   "source": [
    "So, what can we infer from the above?\n",
    "\n",
    "It looks like that fraudulent transactions occur all hours of the day but valid transactions do not seem to occur in the steps between 0 - 9\n",
    "\n",
    "Therefore, it is a good idea to create a new feature based on hours"
   ]
  },
  {
   "cell_type": "code",
   "execution_count": 27,
   "metadata": {},
   "outputs": [],
   "source": [
    "df['hourOfDay'] = np.nan\n",
    "df.hourOfDay = df_direction.step % 24"
   ]
  },
  {
   "cell_type": "code",
   "execution_count": 28,
   "metadata": {},
   "outputs": [
    {
     "data": {
      "text/html": [
       "<div>\n",
       "<style scoped>\n",
       "    .dataframe tbody tr th:only-of-type {\n",
       "        vertical-align: middle;\n",
       "    }\n",
       "\n",
       "    .dataframe tbody tr th {\n",
       "        vertical-align: top;\n",
       "    }\n",
       "\n",
       "    .dataframe thead th {\n",
       "        text-align: right;\n",
       "    }\n",
       "</style>\n",
       "<table border=\"1\" class=\"dataframe\">\n",
       "  <thead>\n",
       "    <tr style=\"text-align: right;\">\n",
       "      <th></th>\n",
       "      <th>step</th>\n",
       "      <th>type</th>\n",
       "      <th>amount</th>\n",
       "      <th>nameOrig</th>\n",
       "      <th>oldBalanceOrig</th>\n",
       "      <th>newBalanceOrig</th>\n",
       "      <th>nameDest</th>\n",
       "      <th>oldbalanceDest</th>\n",
       "      <th>newBalanceDest</th>\n",
       "      <th>isFraud</th>\n",
       "      <th>isFlaggedFraud</th>\n",
       "      <th>hourOfDay</th>\n",
       "    </tr>\n",
       "  </thead>\n",
       "  <tbody>\n",
       "    <tr>\n",
       "      <th>0</th>\n",
       "      <td>1</td>\n",
       "      <td>PAYMENT</td>\n",
       "      <td>9,839.64</td>\n",
       "      <td>C1231006815</td>\n",
       "      <td>170,136.00</td>\n",
       "      <td>160,296.36</td>\n",
       "      <td>M1979787155</td>\n",
       "      <td>0.00</td>\n",
       "      <td>0.00</td>\n",
       "      <td>0</td>\n",
       "      <td>0</td>\n",
       "      <td>1</td>\n",
       "    </tr>\n",
       "    <tr>\n",
       "      <th>1</th>\n",
       "      <td>1</td>\n",
       "      <td>PAYMENT</td>\n",
       "      <td>1,864.28</td>\n",
       "      <td>C1666544295</td>\n",
       "      <td>21,249.00</td>\n",
       "      <td>19,384.72</td>\n",
       "      <td>M2044282225</td>\n",
       "      <td>0.00</td>\n",
       "      <td>0.00</td>\n",
       "      <td>0</td>\n",
       "      <td>0</td>\n",
       "      <td>1</td>\n",
       "    </tr>\n",
       "    <tr>\n",
       "      <th>2</th>\n",
       "      <td>1</td>\n",
       "      <td>TRANSFER</td>\n",
       "      <td>181.00</td>\n",
       "      <td>C1305486145</td>\n",
       "      <td>181.00</td>\n",
       "      <td>0.00</td>\n",
       "      <td>C553264065</td>\n",
       "      <td>0.00</td>\n",
       "      <td>0.00</td>\n",
       "      <td>1</td>\n",
       "      <td>0</td>\n",
       "      <td>1</td>\n",
       "    </tr>\n",
       "    <tr>\n",
       "      <th>3</th>\n",
       "      <td>1</td>\n",
       "      <td>CASH_OUT</td>\n",
       "      <td>181.00</td>\n",
       "      <td>C840083671</td>\n",
       "      <td>181.00</td>\n",
       "      <td>0.00</td>\n",
       "      <td>C38997010</td>\n",
       "      <td>21,182.00</td>\n",
       "      <td>0.00</td>\n",
       "      <td>1</td>\n",
       "      <td>0</td>\n",
       "      <td>1</td>\n",
       "    </tr>\n",
       "    <tr>\n",
       "      <th>4</th>\n",
       "      <td>1</td>\n",
       "      <td>PAYMENT</td>\n",
       "      <td>11,668.14</td>\n",
       "      <td>C2048537720</td>\n",
       "      <td>41,554.00</td>\n",
       "      <td>29,885.86</td>\n",
       "      <td>M1230701703</td>\n",
       "      <td>0.00</td>\n",
       "      <td>0.00</td>\n",
       "      <td>0</td>\n",
       "      <td>0</td>\n",
       "      <td>1</td>\n",
       "    </tr>\n",
       "  </tbody>\n",
       "</table>\n",
       "</div>"
      ],
      "text/plain": [
       "   step      type    amount     nameOrig  oldBalanceOrig  newBalanceOrig  \\\n",
       "0     1   PAYMENT  9,839.64  C1231006815      170,136.00      160,296.36   \n",
       "1     1   PAYMENT  1,864.28  C1666544295       21,249.00       19,384.72   \n",
       "2     1  TRANSFER    181.00  C1305486145          181.00            0.00   \n",
       "3     1  CASH_OUT    181.00   C840083671          181.00            0.00   \n",
       "4     1   PAYMENT 11,668.14  C2048537720       41,554.00       29,885.86   \n",
       "\n",
       "      nameDest  oldbalanceDest  newBalanceDest  isFraud  isFlaggedFraud  \\\n",
       "0  M1979787155            0.00            0.00        0               0   \n",
       "1  M2044282225            0.00            0.00        0               0   \n",
       "2   C553264065            0.00            0.00        1               0   \n",
       "3    C38997010       21,182.00            0.00        1               0   \n",
       "4  M1230701703            0.00            0.00        0               0   \n",
       "\n",
       "   hourOfDay  \n",
       "0          1  \n",
       "1          1  \n",
       "2          1  \n",
       "3          1  \n",
       "4          1  "
      ]
     },
     "execution_count": 28,
     "metadata": {},
     "output_type": "execute_result"
    }
   ],
   "source": [
    "df.head(n=5)"
   ]
  },
  {
   "cell_type": "markdown",
   "metadata": {},
   "source": [
    "# Feature Engineering"
   ]
  },
  {
   "cell_type": "markdown",
   "metadata": {},
   "source": [
    "First, let's have a recap of which features we can remove from our investigations\n",
    "\n",
    "From the **type** feature we are only interested in **CASH_OUT** and **TRANSFER**\n",
    "\n",
    "We also don't need to include **nameOrig** and **nameDest**\n",
    "\n",
    "**isFlaggedFraud** is neglible so we can also remove that (remember there were only sixteen values)"
   ]
  },
  {
   "cell_type": "markdown",
   "metadata": {},
   "source": [
    "## Removing columns and specific types"
   ]
  },
  {
   "cell_type": "markdown",
   "metadata": {},
   "source": [
    "Although we can remove these features using pandas, it is worth using other tools (Glue and Athena) to reduce th dataset and then reload and continue with the feature engineering process"
   ]
  },
  {
   "cell_type": "code",
   "execution_count": 29,
   "metadata": {},
   "outputs": [],
   "source": [
    "from IPython.display import Image"
   ]
  },
  {
   "cell_type": "markdown",
   "metadata": {},
   "source": [
    "![title](img/glue_transform.png)"
   ]
  },
  {
   "cell_type": "markdown",
   "metadata": {},
   "source": [
    "and I need to add some code to combine the standard frames into one **dynamic_Frame=applymapping1.coalesce(1)**\n",
    "\n",
    "once I have run another crawler, I use Athena to remove the specific types to only leave **CASH_OUT** and **TRANSFER**\n",
    "\n",
    "SELECT *\\\n",
    "FROM removed_columns\\\n",
    "WHERE type = 'CASH_OUT' or type = 'TRANSFER';\n",
    "\n",
    "the new file is then saved to S3 which i can then use directly (as it is a CSV) or convert it parquet using Glue (as before)\n",
    "\n",
    "So some information on the origanl file and the feature engineered (well basic cleaning so far)"
   ]
  },
  {
   "cell_type": "markdown",
   "metadata": {},
   "source": [
    "Original CSV file size    : 470.7MB\\\n",
    "Origanal Parquet file size: 274.8MB\n",
    "\n",
    "Columns removed CSV file size    : 319.2MB\\\n",
    "Columns removed Parquet file size: 158.1MB\n",
    "\n",
    "Feature **type** cleaned CSV file size    : 187.1MB\\\n",
    "Feature **type** cleaned Parquet file size: 80.1MB"
   ]
  },
  {
   "cell_type": "code",
   "execution_count": 30,
   "metadata": {},
   "outputs": [],
   "source": [
    "csv_original      = 's3://sagemaker-pmelvin/input-data/bb_banking_fraud.csv'\n",
    "csv_removed_cols  = 's3://sagemaker-pmelvin/input-data/removed_columns/run-1606989332572-part-r-00000'\n",
    "csv_removed_types = 's3://sagemaker-pmelvin/input-data/removed-specific-types/01a89090-e9b6-4b07-8a49-b0244d6dc035.csv'\n",
    "\n",
    "par_original      = 's3://sagemaker-pmelvin/input-parquet-single/part-00000-28137ef0-c04d-436a-8b20-ae663dbe740b-c000.snappy.parquet'\n",
    "par_removed_cols  = 's3://sagemaker-pmelvin/input-parquet-single/removed-columns/part-00000-c88815d4-0920-4ab0-bb77-b160ab9dbc09-c000.snappy.parquet'\n",
    "par_removed_types = 's3://sagemaker-pmelvin/input-parquet-single/removed-specific-types/part-00000-c2ad1434-15f7-4fb0-afb2-54757f53e21b-c000.snappy.parquet'"
   ]
  },
  {
   "cell_type": "code",
   "execution_count": 31,
   "metadata": {},
   "outputs": [],
   "source": [
    "# local\n",
    "# csv_original      = 'bb_banking_fraud.csv'\n",
    "# csv_removed_cols  = 'run-1606989332572-part-r-00000'\n",
    "# csv_removed_types = '01a89090-e9b6-4b07-8a49-b0244d6dc035.csv'\n",
    "\n",
    "# par_original      = 'part-00000-28137ef0-c04d-436a-8b20-ae663dbe740b-c000.snappy.parquet'\n",
    "# par_removed_cols  = 'part-00000-c88815d4-0920-4ab0-bb77-b160ab9dbc09-c000.snappy.parquet'\n",
    "# par_removed_types = 'part-00000-c2ad1434-15f7-4fb0-afb2-54757f53e21b-c000.snappy.parquet'"
   ]
  },
  {
   "cell_type": "markdown",
   "metadata": {},
   "source": [
    "Let's load and quickly double-check"
   ]
  },
  {
   "cell_type": "code",
   "execution_count": 32,
   "metadata": {},
   "outputs": [],
   "source": [
    "# %%time\n",
    "# df_csv_original = pd.read_csv(csv_original)"
   ]
  },
  {
   "cell_type": "code",
   "execution_count": 33,
   "metadata": {},
   "outputs": [],
   "source": [
    "# %%time\n",
    "# df_csv_removed_cols = pd.read_csv(csv_removed_cols)"
   ]
  },
  {
   "cell_type": "code",
   "execution_count": 34,
   "metadata": {},
   "outputs": [
    {
     "name": "stdout",
     "output_type": "stream",
     "text": [
      "CPU times: user 2 s, sys: 546 ms, total: 2.55 s\n",
      "Wall time: 10.2 s\n"
     ]
    }
   ],
   "source": [
    "%%time\n",
    "df_csv_removed_types = pd.read_csv(csv_removed_types)"
   ]
  },
  {
   "cell_type": "code",
   "execution_count": 35,
   "metadata": {},
   "outputs": [],
   "source": [
    "# df_csv_original.shape"
   ]
  },
  {
   "cell_type": "code",
   "execution_count": 36,
   "metadata": {},
   "outputs": [],
   "source": [
    "# df_csv_original.head(n=5)"
   ]
  },
  {
   "cell_type": "code",
   "execution_count": 37,
   "metadata": {},
   "outputs": [],
   "source": [
    "# df_csv_removed_cols.shape"
   ]
  },
  {
   "cell_type": "code",
   "execution_count": 38,
   "metadata": {},
   "outputs": [],
   "source": [
    "# df_csv_removed_cols.head(n=5)"
   ]
  },
  {
   "cell_type": "code",
   "execution_count": 39,
   "metadata": {},
   "outputs": [
    {
     "data": {
      "text/plain": [
       "(2770409, 8)"
      ]
     },
     "execution_count": 39,
     "metadata": {},
     "output_type": "execute_result"
    }
   ],
   "source": [
    "df_csv_removed_types.shape"
   ]
  },
  {
   "cell_type": "code",
   "execution_count": 40,
   "metadata": {},
   "outputs": [
    {
     "data": {
      "text/html": [
       "<div>\n",
       "<style scoped>\n",
       "    .dataframe tbody tr th:only-of-type {\n",
       "        vertical-align: middle;\n",
       "    }\n",
       "\n",
       "    .dataframe tbody tr th {\n",
       "        vertical-align: top;\n",
       "    }\n",
       "\n",
       "    .dataframe thead th {\n",
       "        text-align: right;\n",
       "    }\n",
       "</style>\n",
       "<table border=\"1\" class=\"dataframe\">\n",
       "  <thead>\n",
       "    <tr style=\"text-align: right;\">\n",
       "      <th></th>\n",
       "      <th>step</th>\n",
       "      <th>type</th>\n",
       "      <th>amount</th>\n",
       "      <th>oldbalanceorg</th>\n",
       "      <th>newbalanceorig</th>\n",
       "      <th>oldbalancedest</th>\n",
       "      <th>newbalancedest</th>\n",
       "      <th>isfraud</th>\n",
       "    </tr>\n",
       "  </thead>\n",
       "  <tbody>\n",
       "    <tr>\n",
       "      <th>0</th>\n",
       "      <td>282</td>\n",
       "      <td>CASH_OUT</td>\n",
       "      <td>32,211.98</td>\n",
       "      <td>50,286.00</td>\n",
       "      <td>18,074.02</td>\n",
       "      <td>1,822,919.25</td>\n",
       "      <td>1,855,131.23</td>\n",
       "      <td>0</td>\n",
       "    </tr>\n",
       "    <tr>\n",
       "      <th>1</th>\n",
       "      <td>282</td>\n",
       "      <td>CASH_OUT</td>\n",
       "      <td>160,345.98</td>\n",
       "      <td>10,547.53</td>\n",
       "      <td>0.00</td>\n",
       "      <td>1,315,244.93</td>\n",
       "      <td>1,444,936.49</td>\n",
       "      <td>0</td>\n",
       "    </tr>\n",
       "    <tr>\n",
       "      <th>2</th>\n",
       "      <td>282</td>\n",
       "      <td>CASH_OUT</td>\n",
       "      <td>131,693.09</td>\n",
       "      <td>882.00</td>\n",
       "      <td>0.00</td>\n",
       "      <td>0.00</td>\n",
       "      <td>131,693.09</td>\n",
       "      <td>0</td>\n",
       "    </tr>\n",
       "    <tr>\n",
       "      <th>3</th>\n",
       "      <td>282</td>\n",
       "      <td>CASH_OUT</td>\n",
       "      <td>275,852.42</td>\n",
       "      <td>31,079.00</td>\n",
       "      <td>0.00</td>\n",
       "      <td>314,930.74</td>\n",
       "      <td>590,783.16</td>\n",
       "      <td>0</td>\n",
       "    </tr>\n",
       "    <tr>\n",
       "      <th>4</th>\n",
       "      <td>282</td>\n",
       "      <td>CASH_OUT</td>\n",
       "      <td>37,745.48</td>\n",
       "      <td>5,097.00</td>\n",
       "      <td>0.00</td>\n",
       "      <td>0.00</td>\n",
       "      <td>37,745.48</td>\n",
       "      <td>0</td>\n",
       "    </tr>\n",
       "  </tbody>\n",
       "</table>\n",
       "</div>"
      ],
      "text/plain": [
       "   step      type     amount  oldbalanceorg  newbalanceorig  oldbalancedest  \\\n",
       "0   282  CASH_OUT  32,211.98      50,286.00       18,074.02    1,822,919.25   \n",
       "1   282  CASH_OUT 160,345.98      10,547.53            0.00    1,315,244.93   \n",
       "2   282  CASH_OUT 131,693.09         882.00            0.00            0.00   \n",
       "3   282  CASH_OUT 275,852.42      31,079.00            0.00      314,930.74   \n",
       "4   282  CASH_OUT  37,745.48       5,097.00            0.00            0.00   \n",
       "\n",
       "   newbalancedest  isfraud  \n",
       "0    1,855,131.23        0  \n",
       "1    1,444,936.49        0  \n",
       "2      131,693.09        0  \n",
       "3      590,783.16        0  \n",
       "4       37,745.48        0  "
      ]
     },
     "execution_count": 40,
     "metadata": {},
     "output_type": "execute_result"
    }
   ],
   "source": [
    "df_csv_removed_types.head(n=5)"
   ]
  },
  {
   "cell_type": "markdown",
   "metadata": {},
   "source": [
    "So in summary, so far, for the CSV files the load time comes down by a factor of about 2 which is great!\n",
    "\n",
    "Let's fix those column names again"
   ]
  },
  {
   "cell_type": "code",
   "execution_count": 41,
   "metadata": {},
   "outputs": [],
   "source": [
    "df_csv_removed_types = df_csv_removed_types.rename(columns={'oldbalanceorg':'oldBalanceOrig', 'newbalanceorig':'newBalanceOrig', 'oldbalancedest':'oldBalanceDest', 'newbalancedest':'newBalanceDest', 'isfraud':'isFraud'})"
   ]
  },
  {
   "cell_type": "code",
   "execution_count": 42,
   "metadata": {},
   "outputs": [
    {
     "data": {
      "text/html": [
       "<div>\n",
       "<style scoped>\n",
       "    .dataframe tbody tr th:only-of-type {\n",
       "        vertical-align: middle;\n",
       "    }\n",
       "\n",
       "    .dataframe tbody tr th {\n",
       "        vertical-align: top;\n",
       "    }\n",
       "\n",
       "    .dataframe thead th {\n",
       "        text-align: right;\n",
       "    }\n",
       "</style>\n",
       "<table border=\"1\" class=\"dataframe\">\n",
       "  <thead>\n",
       "    <tr style=\"text-align: right;\">\n",
       "      <th></th>\n",
       "      <th>step</th>\n",
       "      <th>type</th>\n",
       "      <th>amount</th>\n",
       "      <th>oldBalanceOrig</th>\n",
       "      <th>newBalanceOrig</th>\n",
       "      <th>oldBalanceDest</th>\n",
       "      <th>newBalanceDest</th>\n",
       "      <th>isFraud</th>\n",
       "    </tr>\n",
       "  </thead>\n",
       "  <tbody>\n",
       "    <tr>\n",
       "      <th>0</th>\n",
       "      <td>282</td>\n",
       "      <td>CASH_OUT</td>\n",
       "      <td>32,211.98</td>\n",
       "      <td>50,286.00</td>\n",
       "      <td>18,074.02</td>\n",
       "      <td>1,822,919.25</td>\n",
       "      <td>1,855,131.23</td>\n",
       "      <td>0</td>\n",
       "    </tr>\n",
       "    <tr>\n",
       "      <th>1</th>\n",
       "      <td>282</td>\n",
       "      <td>CASH_OUT</td>\n",
       "      <td>160,345.98</td>\n",
       "      <td>10,547.53</td>\n",
       "      <td>0.00</td>\n",
       "      <td>1,315,244.93</td>\n",
       "      <td>1,444,936.49</td>\n",
       "      <td>0</td>\n",
       "    </tr>\n",
       "    <tr>\n",
       "      <th>2</th>\n",
       "      <td>282</td>\n",
       "      <td>CASH_OUT</td>\n",
       "      <td>131,693.09</td>\n",
       "      <td>882.00</td>\n",
       "      <td>0.00</td>\n",
       "      <td>0.00</td>\n",
       "      <td>131,693.09</td>\n",
       "      <td>0</td>\n",
       "    </tr>\n",
       "    <tr>\n",
       "      <th>3</th>\n",
       "      <td>282</td>\n",
       "      <td>CASH_OUT</td>\n",
       "      <td>275,852.42</td>\n",
       "      <td>31,079.00</td>\n",
       "      <td>0.00</td>\n",
       "      <td>314,930.74</td>\n",
       "      <td>590,783.16</td>\n",
       "      <td>0</td>\n",
       "    </tr>\n",
       "    <tr>\n",
       "      <th>4</th>\n",
       "      <td>282</td>\n",
       "      <td>CASH_OUT</td>\n",
       "      <td>37,745.48</td>\n",
       "      <td>5,097.00</td>\n",
       "      <td>0.00</td>\n",
       "      <td>0.00</td>\n",
       "      <td>37,745.48</td>\n",
       "      <td>0</td>\n",
       "    </tr>\n",
       "  </tbody>\n",
       "</table>\n",
       "</div>"
      ],
      "text/plain": [
       "   step      type     amount  oldBalanceOrig  newBalanceOrig  oldBalanceDest  \\\n",
       "0   282  CASH_OUT  32,211.98       50,286.00       18,074.02    1,822,919.25   \n",
       "1   282  CASH_OUT 160,345.98       10,547.53            0.00    1,315,244.93   \n",
       "2   282  CASH_OUT 131,693.09          882.00            0.00            0.00   \n",
       "3   282  CASH_OUT 275,852.42       31,079.00            0.00      314,930.74   \n",
       "4   282  CASH_OUT  37,745.48        5,097.00            0.00            0.00   \n",
       "\n",
       "   newBalanceDest  isFraud  \n",
       "0    1,855,131.23        0  \n",
       "1    1,444,936.49        0  \n",
       "2      131,693.09        0  \n",
       "3      590,783.16        0  \n",
       "4       37,745.48        0  "
      ]
     },
     "execution_count": 42,
     "metadata": {},
     "output_type": "execute_result"
    }
   ],
   "source": [
    "df = df_csv_removed_types\n",
    "df.head(n=5)"
   ]
  },
  {
   "cell_type": "code",
   "execution_count": 43,
   "metadata": {},
   "outputs": [
    {
     "data": {
      "text/plain": [
       "(2770409, 8)"
      ]
     },
     "execution_count": 43,
     "metadata": {},
     "output_type": "execute_result"
    }
   ],
   "source": [
    "df.shape"
   ]
  },
  {
   "cell_type": "markdown",
   "metadata": {},
   "source": [
    "## Adding the **hourOfDay** feature"
   ]
  },
  {
   "cell_type": "code",
   "execution_count": 44,
   "metadata": {},
   "outputs": [],
   "source": [
    "df_copy = df.copy()\n",
    "\n",
    "df['hourOfDay'] = np.nan\n",
    "df.hourOfDay = df_copy.step % 24"
   ]
  },
  {
   "cell_type": "code",
   "execution_count": 45,
   "metadata": {},
   "outputs": [
    {
     "data": {
      "text/html": [
       "<div>\n",
       "<style scoped>\n",
       "    .dataframe tbody tr th:only-of-type {\n",
       "        vertical-align: middle;\n",
       "    }\n",
       "\n",
       "    .dataframe tbody tr th {\n",
       "        vertical-align: top;\n",
       "    }\n",
       "\n",
       "    .dataframe thead th {\n",
       "        text-align: right;\n",
       "    }\n",
       "</style>\n",
       "<table border=\"1\" class=\"dataframe\">\n",
       "  <thead>\n",
       "    <tr style=\"text-align: right;\">\n",
       "      <th></th>\n",
       "      <th>step</th>\n",
       "      <th>type</th>\n",
       "      <th>amount</th>\n",
       "      <th>oldBalanceOrig</th>\n",
       "      <th>newBalanceOrig</th>\n",
       "      <th>oldBalanceDest</th>\n",
       "      <th>newBalanceDest</th>\n",
       "      <th>isFraud</th>\n",
       "      <th>hourOfDay</th>\n",
       "    </tr>\n",
       "  </thead>\n",
       "  <tbody>\n",
       "    <tr>\n",
       "      <th>0</th>\n",
       "      <td>282</td>\n",
       "      <td>CASH_OUT</td>\n",
       "      <td>32,211.98</td>\n",
       "      <td>50,286.00</td>\n",
       "      <td>18,074.02</td>\n",
       "      <td>1,822,919.25</td>\n",
       "      <td>1,855,131.23</td>\n",
       "      <td>0</td>\n",
       "      <td>18</td>\n",
       "    </tr>\n",
       "    <tr>\n",
       "      <th>1</th>\n",
       "      <td>282</td>\n",
       "      <td>CASH_OUT</td>\n",
       "      <td>160,345.98</td>\n",
       "      <td>10,547.53</td>\n",
       "      <td>0.00</td>\n",
       "      <td>1,315,244.93</td>\n",
       "      <td>1,444,936.49</td>\n",
       "      <td>0</td>\n",
       "      <td>18</td>\n",
       "    </tr>\n",
       "    <tr>\n",
       "      <th>2</th>\n",
       "      <td>282</td>\n",
       "      <td>CASH_OUT</td>\n",
       "      <td>131,693.09</td>\n",
       "      <td>882.00</td>\n",
       "      <td>0.00</td>\n",
       "      <td>0.00</td>\n",
       "      <td>131,693.09</td>\n",
       "      <td>0</td>\n",
       "      <td>18</td>\n",
       "    </tr>\n",
       "    <tr>\n",
       "      <th>3</th>\n",
       "      <td>282</td>\n",
       "      <td>CASH_OUT</td>\n",
       "      <td>275,852.42</td>\n",
       "      <td>31,079.00</td>\n",
       "      <td>0.00</td>\n",
       "      <td>314,930.74</td>\n",
       "      <td>590,783.16</td>\n",
       "      <td>0</td>\n",
       "      <td>18</td>\n",
       "    </tr>\n",
       "    <tr>\n",
       "      <th>4</th>\n",
       "      <td>282</td>\n",
       "      <td>CASH_OUT</td>\n",
       "      <td>37,745.48</td>\n",
       "      <td>5,097.00</td>\n",
       "      <td>0.00</td>\n",
       "      <td>0.00</td>\n",
       "      <td>37,745.48</td>\n",
       "      <td>0</td>\n",
       "      <td>18</td>\n",
       "    </tr>\n",
       "  </tbody>\n",
       "</table>\n",
       "</div>"
      ],
      "text/plain": [
       "   step      type     amount  oldBalanceOrig  newBalanceOrig  oldBalanceDest  \\\n",
       "0   282  CASH_OUT  32,211.98       50,286.00       18,074.02    1,822,919.25   \n",
       "1   282  CASH_OUT 160,345.98       10,547.53            0.00    1,315,244.93   \n",
       "2   282  CASH_OUT 131,693.09          882.00            0.00            0.00   \n",
       "3   282  CASH_OUT 275,852.42       31,079.00            0.00      314,930.74   \n",
       "4   282  CASH_OUT  37,745.48        5,097.00            0.00            0.00   \n",
       "\n",
       "   newBalanceDest  isFraud  hourOfDay  \n",
       "0    1,855,131.23        0         18  \n",
       "1    1,444,936.49        0         18  \n",
       "2      131,693.09        0         18  \n",
       "3      590,783.16        0         18  \n",
       "4       37,745.48        0         18  "
      ]
     },
     "execution_count": 45,
     "metadata": {},
     "output_type": "execute_result"
    }
   ],
   "source": [
    "df.head(n=5)"
   ]
  },
  {
   "cell_type": "markdown",
   "metadata": {},
   "source": [
    "Or we can also perform the same action in Athena\n",
    "\n",
    "SELECT *,  MOD(step, 24) timeofday\\\n",
    "from removed_columns \n",
    "\n",
    "which returns a CSV file with a new column **timeofday** which is _step % 24_"
   ]
  },
  {
   "cell_type": "code",
   "execution_count": 46,
   "metadata": {},
   "outputs": [],
   "source": [
    "# csv_modulus       = 'a7aa763d-235b-45d1-bed6-3364ead885bc.csv'"
   ]
  },
  {
   "cell_type": "markdown",
   "metadata": {},
   "source": [
    " ## Changing categorical values"
   ]
  },
  {
   "cell_type": "markdown",
   "metadata": {},
   "source": [
    "Most of the machine learning algorithms can not handle categorical variables unless we convert them to numerical values. Many algorithm’s performances vary based on how Categorical variables are encoded.\n",
    "\n",
    "Categorical variables can be divided into two categories: Nominal (No particular order) and Ordinal (some ordered)."
   ]
  },
  {
   "cell_type": "markdown",
   "metadata": {},
   "source": [
    "Since there is no ordering we will use **One-Hot encoding**.\\\n",
    "In this method, we map each category to a vector that contains 1 and 0 denoting the presence or absence of the feature. The number of vectors depends on the number of categories for features. This method produces a lot of columns that slows down the learning significantly if the number of the category is very high for the feature.\n",
    "\n",
    "pandas has the **get_dummies** function"
   ]
  },
  {
   "cell_type": "code",
   "execution_count": 47,
   "metadata": {},
   "outputs": [],
   "source": [
    "df_with_dummies = pd.get_dummies(df, prefix=['type'])"
   ]
  },
  {
   "cell_type": "code",
   "execution_count": 48,
   "metadata": {},
   "outputs": [
    {
     "data": {
      "text/html": [
       "<div>\n",
       "<style scoped>\n",
       "    .dataframe tbody tr th:only-of-type {\n",
       "        vertical-align: middle;\n",
       "    }\n",
       "\n",
       "    .dataframe tbody tr th {\n",
       "        vertical-align: top;\n",
       "    }\n",
       "\n",
       "    .dataframe thead th {\n",
       "        text-align: right;\n",
       "    }\n",
       "</style>\n",
       "<table border=\"1\" class=\"dataframe\">\n",
       "  <thead>\n",
       "    <tr style=\"text-align: right;\">\n",
       "      <th></th>\n",
       "      <th>step</th>\n",
       "      <th>amount</th>\n",
       "      <th>oldBalanceOrig</th>\n",
       "      <th>newBalanceOrig</th>\n",
       "      <th>oldBalanceDest</th>\n",
       "      <th>newBalanceDest</th>\n",
       "      <th>isFraud</th>\n",
       "      <th>hourOfDay</th>\n",
       "      <th>type_CASH_OUT</th>\n",
       "      <th>type_TRANSFER</th>\n",
       "    </tr>\n",
       "  </thead>\n",
       "  <tbody>\n",
       "    <tr>\n",
       "      <th>0</th>\n",
       "      <td>282</td>\n",
       "      <td>32,211.98</td>\n",
       "      <td>50,286.00</td>\n",
       "      <td>18,074.02</td>\n",
       "      <td>1,822,919.25</td>\n",
       "      <td>1,855,131.23</td>\n",
       "      <td>0</td>\n",
       "      <td>18</td>\n",
       "      <td>1</td>\n",
       "      <td>0</td>\n",
       "    </tr>\n",
       "    <tr>\n",
       "      <th>1</th>\n",
       "      <td>282</td>\n",
       "      <td>160,345.98</td>\n",
       "      <td>10,547.53</td>\n",
       "      <td>0.00</td>\n",
       "      <td>1,315,244.93</td>\n",
       "      <td>1,444,936.49</td>\n",
       "      <td>0</td>\n",
       "      <td>18</td>\n",
       "      <td>1</td>\n",
       "      <td>0</td>\n",
       "    </tr>\n",
       "    <tr>\n",
       "      <th>2</th>\n",
       "      <td>282</td>\n",
       "      <td>131,693.09</td>\n",
       "      <td>882.00</td>\n",
       "      <td>0.00</td>\n",
       "      <td>0.00</td>\n",
       "      <td>131,693.09</td>\n",
       "      <td>0</td>\n",
       "      <td>18</td>\n",
       "      <td>1</td>\n",
       "      <td>0</td>\n",
       "    </tr>\n",
       "    <tr>\n",
       "      <th>3</th>\n",
       "      <td>282</td>\n",
       "      <td>275,852.42</td>\n",
       "      <td>31,079.00</td>\n",
       "      <td>0.00</td>\n",
       "      <td>314,930.74</td>\n",
       "      <td>590,783.16</td>\n",
       "      <td>0</td>\n",
       "      <td>18</td>\n",
       "      <td>1</td>\n",
       "      <td>0</td>\n",
       "    </tr>\n",
       "    <tr>\n",
       "      <th>4</th>\n",
       "      <td>282</td>\n",
       "      <td>37,745.48</td>\n",
       "      <td>5,097.00</td>\n",
       "      <td>0.00</td>\n",
       "      <td>0.00</td>\n",
       "      <td>37,745.48</td>\n",
       "      <td>0</td>\n",
       "      <td>18</td>\n",
       "      <td>1</td>\n",
       "      <td>0</td>\n",
       "    </tr>\n",
       "  </tbody>\n",
       "</table>\n",
       "</div>"
      ],
      "text/plain": [
       "   step     amount  oldBalanceOrig  newBalanceOrig  oldBalanceDest  \\\n",
       "0   282  32,211.98       50,286.00       18,074.02    1,822,919.25   \n",
       "1   282 160,345.98       10,547.53            0.00    1,315,244.93   \n",
       "2   282 131,693.09          882.00            0.00            0.00   \n",
       "3   282 275,852.42       31,079.00            0.00      314,930.74   \n",
       "4   282  37,745.48        5,097.00            0.00            0.00   \n",
       "\n",
       "   newBalanceDest  isFraud  hourOfDay  type_CASH_OUT  type_TRANSFER  \n",
       "0    1,855,131.23        0         18              1              0  \n",
       "1    1,444,936.49        0         18              1              0  \n",
       "2      131,693.09        0         18              1              0  \n",
       "3      590,783.16        0         18              1              0  \n",
       "4       37,745.48        0         18              1              0  "
      ]
     },
     "execution_count": 48,
     "metadata": {},
     "output_type": "execute_result"
    }
   ],
   "source": [
    "df_with_dummies.head(n=5)"
   ]
  },
  {
   "cell_type": "code",
   "execution_count": 49,
   "metadata": {},
   "outputs": [],
   "source": [
    "df_u = df_with_dummies.copy()"
   ]
  },
  {
   "cell_type": "markdown",
   "metadata": {},
   "source": [
    "\n",
    "## Splitting and standardising"
   ]
  },
  {
   "cell_type": "markdown",
   "metadata": {},
   "source": [
    "To train any machine learning model irrespective what type of dataset is being used you have to **split** the dataset into training data and testing data.\n",
    "\n",
    "scikit has **train_test_split** function"
   ]
  },
  {
   "cell_type": "code",
   "execution_count": 50,
   "metadata": {},
   "outputs": [],
   "source": [
    "# to allow reproducible splitting we define a RandomState and seed\n",
    "randomstate = 25\n",
    "seed(10)"
   ]
  },
  {
   "cell_type": "markdown",
   "metadata": {},
   "source": [
    "We will move the **isFraud** column to the front as some algorithmns require the first feature to be the one we are investigating"
   ]
  },
  {
   "cell_type": "code",
   "execution_count": 51,
   "metadata": {},
   "outputs": [],
   "source": [
    "first_col = df_u.pop('isFraud')"
   ]
  },
  {
   "cell_type": "code",
   "execution_count": 52,
   "metadata": {},
   "outputs": [],
   "source": [
    "df_u.insert(0, 'isFraud', first_col)"
   ]
  },
  {
   "cell_type": "code",
   "execution_count": 53,
   "metadata": {},
   "outputs": [
    {
     "data": {
      "text/html": [
       "<div>\n",
       "<style scoped>\n",
       "    .dataframe tbody tr th:only-of-type {\n",
       "        vertical-align: middle;\n",
       "    }\n",
       "\n",
       "    .dataframe tbody tr th {\n",
       "        vertical-align: top;\n",
       "    }\n",
       "\n",
       "    .dataframe thead th {\n",
       "        text-align: right;\n",
       "    }\n",
       "</style>\n",
       "<table border=\"1\" class=\"dataframe\">\n",
       "  <thead>\n",
       "    <tr style=\"text-align: right;\">\n",
       "      <th></th>\n",
       "      <th>isFraud</th>\n",
       "      <th>step</th>\n",
       "      <th>amount</th>\n",
       "      <th>oldBalanceOrig</th>\n",
       "      <th>newBalanceOrig</th>\n",
       "      <th>oldBalanceDest</th>\n",
       "      <th>newBalanceDest</th>\n",
       "      <th>hourOfDay</th>\n",
       "      <th>type_CASH_OUT</th>\n",
       "      <th>type_TRANSFER</th>\n",
       "    </tr>\n",
       "  </thead>\n",
       "  <tbody>\n",
       "    <tr>\n",
       "      <th>0</th>\n",
       "      <td>0</td>\n",
       "      <td>282</td>\n",
       "      <td>32,211.98</td>\n",
       "      <td>50,286.00</td>\n",
       "      <td>18,074.02</td>\n",
       "      <td>1,822,919.25</td>\n",
       "      <td>1,855,131.23</td>\n",
       "      <td>18</td>\n",
       "      <td>1</td>\n",
       "      <td>0</td>\n",
       "    </tr>\n",
       "    <tr>\n",
       "      <th>1</th>\n",
       "      <td>0</td>\n",
       "      <td>282</td>\n",
       "      <td>160,345.98</td>\n",
       "      <td>10,547.53</td>\n",
       "      <td>0.00</td>\n",
       "      <td>1,315,244.93</td>\n",
       "      <td>1,444,936.49</td>\n",
       "      <td>18</td>\n",
       "      <td>1</td>\n",
       "      <td>0</td>\n",
       "    </tr>\n",
       "    <tr>\n",
       "      <th>2</th>\n",
       "      <td>0</td>\n",
       "      <td>282</td>\n",
       "      <td>131,693.09</td>\n",
       "      <td>882.00</td>\n",
       "      <td>0.00</td>\n",
       "      <td>0.00</td>\n",
       "      <td>131,693.09</td>\n",
       "      <td>18</td>\n",
       "      <td>1</td>\n",
       "      <td>0</td>\n",
       "    </tr>\n",
       "    <tr>\n",
       "      <th>3</th>\n",
       "      <td>0</td>\n",
       "      <td>282</td>\n",
       "      <td>275,852.42</td>\n",
       "      <td>31,079.00</td>\n",
       "      <td>0.00</td>\n",
       "      <td>314,930.74</td>\n",
       "      <td>590,783.16</td>\n",
       "      <td>18</td>\n",
       "      <td>1</td>\n",
       "      <td>0</td>\n",
       "    </tr>\n",
       "    <tr>\n",
       "      <th>4</th>\n",
       "      <td>0</td>\n",
       "      <td>282</td>\n",
       "      <td>37,745.48</td>\n",
       "      <td>5,097.00</td>\n",
       "      <td>0.00</td>\n",
       "      <td>0.00</td>\n",
       "      <td>37,745.48</td>\n",
       "      <td>18</td>\n",
       "      <td>1</td>\n",
       "      <td>0</td>\n",
       "    </tr>\n",
       "  </tbody>\n",
       "</table>\n",
       "</div>"
      ],
      "text/plain": [
       "   isFraud  step     amount  oldBalanceOrig  newBalanceOrig  oldBalanceDest  \\\n",
       "0        0   282  32,211.98       50,286.00       18,074.02    1,822,919.25   \n",
       "1        0   282 160,345.98       10,547.53            0.00    1,315,244.93   \n",
       "2        0   282 131,693.09          882.00            0.00            0.00   \n",
       "3        0   282 275,852.42       31,079.00            0.00      314,930.74   \n",
       "4        0   282  37,745.48        5,097.00            0.00            0.00   \n",
       "\n",
       "   newBalanceDest  hourOfDay  type_CASH_OUT  type_TRANSFER  \n",
       "0    1,855,131.23         18              1              0  \n",
       "1    1,444,936.49         18              1              0  \n",
       "2      131,693.09         18              1              0  \n",
       "3      590,783.16         18              1              0  \n",
       "4       37,745.48         18              1              0  "
      ]
     },
     "execution_count": 53,
     "metadata": {},
     "output_type": "execute_result"
    }
   ],
   "source": [
    "df_u.head(n=5)"
   ]
  },
  {
   "cell_type": "code",
   "execution_count": 54,
   "metadata": {},
   "outputs": [],
   "source": [
    "X = df_u.drop('isFraud', 1)\n",
    "y = df_u.isFraud"
   ]
  },
  {
   "cell_type": "code",
   "execution_count": 55,
   "metadata": {},
   "outputs": [],
   "source": [
    "train_ratio = 0.75\n",
    "validation_ratio = 0.15\n",
    "test_ratio = 0.10\n",
    "\n",
    "X_train, X_test, y_train, y_test = train_test_split(X, y, test_size=1 - train_ratio)\n",
    "\n",
    "# X_val, X_test, y_val, y_test = train_test_split(X_test, y_test, test_size=test_ratio/(test_ratio + validation_ratio)) \n",
    "\n",
    "# print(X_train, X_val, X_test)"
   ]
  },
  {
   "cell_type": "code",
   "execution_count": 56,
   "metadata": {},
   "outputs": [],
   "source": [
    "# X_train, X_val, X_test = np.split(df_with_dummies.sample(frac=1), [int(0.7 * len(df)), int(0.9 * len(df))])"
   ]
  },
  {
   "cell_type": "code",
   "execution_count": 57,
   "metadata": {},
   "outputs": [
    {
     "name": "stdout",
     "output_type": "stream",
     "text": [
      "The X_train shape is (2077806, 9) and the y_train shape is (2077806,)\n",
      "The X_test shape is (692603, 9) and the y_test shape is (692603,)\n"
     ]
    }
   ],
   "source": [
    "print(f\"The X_train shape is {X_train.shape} and the y_train shape is {y_train.shape}\")\n",
    "print(f\"The X_test shape is {X_test.shape} and the y_test shape is {y_test.shape}\")"
   ]
  },
  {
   "cell_type": "markdown",
   "metadata": {},
   "source": [
    "The above splits the data but is it the best option?\n",
    "\n",
    "Possibly not, as the split will always have the same data and this can lead to what is described as the **bias-variance-tradeoff**\n",
    "\n",
    "To combat this we can use **cross-validation**, which is a method of model validation which splits the data in creative ways in order to obtain the better estimates of “real world” model performance, and minimise validation error.\n",
    "\n",
    "**K-fold** validation is a popular method of cross validation which shuffles the data and splits it into k number of folds (groups). In general K-fold validation is performed by taking one group as the test data set, and the other k-1 groups as the training data, fitting and evaluating a model, and recording the chosen score. This process is then repeated with each fold (group) as the test data and all the scores averaged to obtain a more comprehensive model validation score."
   ]
  },
  {
   "cell_type": "markdown",
   "metadata": {},
   "source": [
    "TODO"
   ]
  },
  {
   "cell_type": "markdown",
   "metadata": {},
   "source": [
    "What do we mean by **standardisation**?\n",
    "\n",
    "**Standardise** generally means changing the values so that the distribution standard deviation from the mean equals one. It outputs something very close to a normal distribution. Scaling is often implied.\n",
    "\n",
    "**Scaling** generally means to change the range of the values. The shape of the distribution doesn’t change. Think about how a scale model of a building has the same proportions as the original, just smaller. That’s why we say it is drawn to scale. The range is often set at 0 to 1.\n",
    "\n",
    "Many machine learning algorithms perform better or converge faster when features are on a relatively similar scale and/or close to normally distributed. **Scaling** and **standardising** can help features arrive in more digestible form for these algorithms."
   ]
  },
  {
   "cell_type": "code",
   "execution_count": 58,
   "metadata": {},
   "outputs": [
    {
     "data": {
      "text/plain": [
       "MinMaxScaler()"
      ]
     },
     "execution_count": 58,
     "metadata": {},
     "output_type": "execute_result"
    }
   ],
   "source": [
    "# scaler = StandardScaler()\n",
    "scaler = MinMaxScaler()\n",
    "scaler.fit(X_train)"
   ]
  },
  {
   "cell_type": "code",
   "execution_count": 59,
   "metadata": {},
   "outputs": [],
   "source": [
    "X_train = scaler.transform(X_train)\n",
    "X_test = scaler.transform(X_test)"
   ]
  },
  {
   "cell_type": "markdown",
   "metadata": {},
   "source": [
    "So we are done! right? no\n",
    "\n",
    "I skipped ahead a bit and did some testing with xgboost but the model did not perform, why?\n",
    "\n",
    "Well it turns out that although we have cleaned the data, we still have the issue that the fraudulent transactions is a tiny percentage, let's explore that a bit more"
   ]
  },
  {
   "cell_type": "markdown",
   "metadata": {},
   "source": [
    "# Problems with data?"
   ]
  },
  {
   "cell_type": "markdown",
   "metadata": {},
   "source": [
    "Let's load the data again and rename the columns once again"
   ]
  },
  {
   "cell_type": "code",
   "execution_count": 4,
   "metadata": {},
   "outputs": [
    {
     "name": "stdout",
     "output_type": "stream",
     "text": [
      "CPU times: user 9.41 s, sys: 2.24 s, total: 11.7 s\n",
      "Wall time: 23.3 s\n"
     ]
    }
   ],
   "source": [
    "%%time\n",
    "df = pd.read_csv(data_location)"
   ]
  },
  {
   "cell_type": "code",
   "execution_count": 5,
   "metadata": {},
   "outputs": [
    {
     "data": {
      "text/html": [
       "<div>\n",
       "<style scoped>\n",
       "    .dataframe tbody tr th:only-of-type {\n",
       "        vertical-align: middle;\n",
       "    }\n",
       "\n",
       "    .dataframe tbody tr th {\n",
       "        vertical-align: top;\n",
       "    }\n",
       "\n",
       "    .dataframe thead th {\n",
       "        text-align: right;\n",
       "    }\n",
       "</style>\n",
       "<table border=\"1\" class=\"dataframe\">\n",
       "  <thead>\n",
       "    <tr style=\"text-align: right;\">\n",
       "      <th></th>\n",
       "      <th>step</th>\n",
       "      <th>type</th>\n",
       "      <th>amount</th>\n",
       "      <th>nameOrig</th>\n",
       "      <th>oldbalanceOrg</th>\n",
       "      <th>newbalanceOrig</th>\n",
       "      <th>nameDest</th>\n",
       "      <th>oldbalanceDest</th>\n",
       "      <th>newbalanceDest</th>\n",
       "      <th>isFraud</th>\n",
       "      <th>isFlaggedFraud</th>\n",
       "    </tr>\n",
       "  </thead>\n",
       "  <tbody>\n",
       "    <tr>\n",
       "      <th>0</th>\n",
       "      <td>1</td>\n",
       "      <td>PAYMENT</td>\n",
       "      <td>9839.64</td>\n",
       "      <td>C1231006815</td>\n",
       "      <td>170136.0</td>\n",
       "      <td>160296.36</td>\n",
       "      <td>M1979787155</td>\n",
       "      <td>0.0</td>\n",
       "      <td>0.0</td>\n",
       "      <td>0</td>\n",
       "      <td>0</td>\n",
       "    </tr>\n",
       "    <tr>\n",
       "      <th>1</th>\n",
       "      <td>1</td>\n",
       "      <td>PAYMENT</td>\n",
       "      <td>1864.28</td>\n",
       "      <td>C1666544295</td>\n",
       "      <td>21249.0</td>\n",
       "      <td>19384.72</td>\n",
       "      <td>M2044282225</td>\n",
       "      <td>0.0</td>\n",
       "      <td>0.0</td>\n",
       "      <td>0</td>\n",
       "      <td>0</td>\n",
       "    </tr>\n",
       "    <tr>\n",
       "      <th>2</th>\n",
       "      <td>1</td>\n",
       "      <td>TRANSFER</td>\n",
       "      <td>181.00</td>\n",
       "      <td>C1305486145</td>\n",
       "      <td>181.0</td>\n",
       "      <td>0.00</td>\n",
       "      <td>C553264065</td>\n",
       "      <td>0.0</td>\n",
       "      <td>0.0</td>\n",
       "      <td>1</td>\n",
       "      <td>0</td>\n",
       "    </tr>\n",
       "    <tr>\n",
       "      <th>3</th>\n",
       "      <td>1</td>\n",
       "      <td>CASH_OUT</td>\n",
       "      <td>181.00</td>\n",
       "      <td>C840083671</td>\n",
       "      <td>181.0</td>\n",
       "      <td>0.00</td>\n",
       "      <td>C38997010</td>\n",
       "      <td>21182.0</td>\n",
       "      <td>0.0</td>\n",
       "      <td>1</td>\n",
       "      <td>0</td>\n",
       "    </tr>\n",
       "    <tr>\n",
       "      <th>4</th>\n",
       "      <td>1</td>\n",
       "      <td>PAYMENT</td>\n",
       "      <td>11668.14</td>\n",
       "      <td>C2048537720</td>\n",
       "      <td>41554.0</td>\n",
       "      <td>29885.86</td>\n",
       "      <td>M1230701703</td>\n",
       "      <td>0.0</td>\n",
       "      <td>0.0</td>\n",
       "      <td>0</td>\n",
       "      <td>0</td>\n",
       "    </tr>\n",
       "  </tbody>\n",
       "</table>\n",
       "</div>"
      ],
      "text/plain": [
       "   step      type    amount     nameOrig  oldbalanceOrg  newbalanceOrig  \\\n",
       "0     1   PAYMENT   9839.64  C1231006815       170136.0       160296.36   \n",
       "1     1   PAYMENT   1864.28  C1666544295        21249.0        19384.72   \n",
       "2     1  TRANSFER    181.00  C1305486145          181.0            0.00   \n",
       "3     1  CASH_OUT    181.00   C840083671          181.0            0.00   \n",
       "4     1   PAYMENT  11668.14  C2048537720        41554.0        29885.86   \n",
       "\n",
       "      nameDest  oldbalanceDest  newbalanceDest  isFraud  isFlaggedFraud  \n",
       "0  M1979787155             0.0             0.0        0               0  \n",
       "1  M2044282225             0.0             0.0        0               0  \n",
       "2   C553264065             0.0             0.0        1               0  \n",
       "3    C38997010         21182.0             0.0        1               0  \n",
       "4  M1230701703             0.0             0.0        0               0  "
      ]
     },
     "execution_count": 5,
     "metadata": {},
     "output_type": "execute_result"
    }
   ],
   "source": [
    "df.head(n=5)"
   ]
  },
  {
   "cell_type": "code",
   "execution_count": 6,
   "metadata": {},
   "outputs": [],
   "source": [
    "df_u = df.rename(columns={'oldbalanceOrg':'oldBalanceOrig', 'newbalanceOrig':'newBalanceOrig', 'oldbalanceDest':'oldBalanceDest', 'newbalanceDest':'newBalanceDest', 'isfraud':'isFraud'})"
   ]
  },
  {
   "cell_type": "code",
   "execution_count": 7,
   "metadata": {},
   "outputs": [
    {
     "data": {
      "text/html": [
       "<div>\n",
       "<style scoped>\n",
       "    .dataframe tbody tr th:only-of-type {\n",
       "        vertical-align: middle;\n",
       "    }\n",
       "\n",
       "    .dataframe tbody tr th {\n",
       "        vertical-align: top;\n",
       "    }\n",
       "\n",
       "    .dataframe thead th {\n",
       "        text-align: right;\n",
       "    }\n",
       "</style>\n",
       "<table border=\"1\" class=\"dataframe\">\n",
       "  <thead>\n",
       "    <tr style=\"text-align: right;\">\n",
       "      <th></th>\n",
       "      <th>step</th>\n",
       "      <th>type</th>\n",
       "      <th>amount</th>\n",
       "      <th>nameOrig</th>\n",
       "      <th>oldBalanceOrig</th>\n",
       "      <th>newBalanceOrig</th>\n",
       "      <th>nameDest</th>\n",
       "      <th>oldBalanceDest</th>\n",
       "      <th>newBalanceDest</th>\n",
       "      <th>isFraud</th>\n",
       "      <th>isFlaggedFraud</th>\n",
       "    </tr>\n",
       "  </thead>\n",
       "  <tbody>\n",
       "    <tr>\n",
       "      <th>0</th>\n",
       "      <td>1</td>\n",
       "      <td>PAYMENT</td>\n",
       "      <td>9839.64</td>\n",
       "      <td>C1231006815</td>\n",
       "      <td>170136.0</td>\n",
       "      <td>160296.36</td>\n",
       "      <td>M1979787155</td>\n",
       "      <td>0.0</td>\n",
       "      <td>0.0</td>\n",
       "      <td>0</td>\n",
       "      <td>0</td>\n",
       "    </tr>\n",
       "    <tr>\n",
       "      <th>1</th>\n",
       "      <td>1</td>\n",
       "      <td>PAYMENT</td>\n",
       "      <td>1864.28</td>\n",
       "      <td>C1666544295</td>\n",
       "      <td>21249.0</td>\n",
       "      <td>19384.72</td>\n",
       "      <td>M2044282225</td>\n",
       "      <td>0.0</td>\n",
       "      <td>0.0</td>\n",
       "      <td>0</td>\n",
       "      <td>0</td>\n",
       "    </tr>\n",
       "    <tr>\n",
       "      <th>2</th>\n",
       "      <td>1</td>\n",
       "      <td>TRANSFER</td>\n",
       "      <td>181.00</td>\n",
       "      <td>C1305486145</td>\n",
       "      <td>181.0</td>\n",
       "      <td>0.00</td>\n",
       "      <td>C553264065</td>\n",
       "      <td>0.0</td>\n",
       "      <td>0.0</td>\n",
       "      <td>1</td>\n",
       "      <td>0</td>\n",
       "    </tr>\n",
       "    <tr>\n",
       "      <th>3</th>\n",
       "      <td>1</td>\n",
       "      <td>CASH_OUT</td>\n",
       "      <td>181.00</td>\n",
       "      <td>C840083671</td>\n",
       "      <td>181.0</td>\n",
       "      <td>0.00</td>\n",
       "      <td>C38997010</td>\n",
       "      <td>21182.0</td>\n",
       "      <td>0.0</td>\n",
       "      <td>1</td>\n",
       "      <td>0</td>\n",
       "    </tr>\n",
       "    <tr>\n",
       "      <th>4</th>\n",
       "      <td>1</td>\n",
       "      <td>PAYMENT</td>\n",
       "      <td>11668.14</td>\n",
       "      <td>C2048537720</td>\n",
       "      <td>41554.0</td>\n",
       "      <td>29885.86</td>\n",
       "      <td>M1230701703</td>\n",
       "      <td>0.0</td>\n",
       "      <td>0.0</td>\n",
       "      <td>0</td>\n",
       "      <td>0</td>\n",
       "    </tr>\n",
       "  </tbody>\n",
       "</table>\n",
       "</div>"
      ],
      "text/plain": [
       "   step      type    amount     nameOrig  oldBalanceOrig  newBalanceOrig  \\\n",
       "0     1   PAYMENT   9839.64  C1231006815        170136.0       160296.36   \n",
       "1     1   PAYMENT   1864.28  C1666544295         21249.0        19384.72   \n",
       "2     1  TRANSFER    181.00  C1305486145           181.0            0.00   \n",
       "3     1  CASH_OUT    181.00   C840083671           181.0            0.00   \n",
       "4     1   PAYMENT  11668.14  C2048537720         41554.0        29885.86   \n",
       "\n",
       "      nameDest  oldBalanceDest  newBalanceDest  isFraud  isFlaggedFraud  \n",
       "0  M1979787155             0.0             0.0        0               0  \n",
       "1  M2044282225             0.0             0.0        0               0  \n",
       "2   C553264065             0.0             0.0        1               0  \n",
       "3    C38997010         21182.0             0.0        1               0  \n",
       "4  M1230701703             0.0             0.0        0               0  "
      ]
     },
     "execution_count": 7,
     "metadata": {},
     "output_type": "execute_result"
    }
   ],
   "source": [
    "df_u.head(n=5)"
   ]
  },
  {
   "cell_type": "markdown",
   "metadata": {},
   "source": [
    "We know there are about 8000 fraudulent records, let's just check that"
   ]
  },
  {
   "cell_type": "code",
   "execution_count": 8,
   "metadata": {},
   "outputs": [
    {
     "data": {
      "text/plain": [
       "0    6354407\n",
       "1       8213\n",
       "Name: isFraud, dtype: int64"
      ]
     },
     "execution_count": 8,
     "metadata": {},
     "output_type": "execute_result"
    }
   ],
   "source": [
    "df_u.isFraud.value_counts()"
   ]
  },
  {
   "cell_type": "markdown",
   "metadata": {},
   "source": [
    "6 million rows are too many to perform testing, so let's take a much smaller sample to use"
   ]
  },
  {
   "cell_type": "code",
   "execution_count": 9,
   "metadata": {},
   "outputs": [],
   "source": [
    "df_copy = df_u.copy()\n",
    "\n",
    "df_u['hourOfDay'] = np.nan\n",
    "df_u.hourOfDay = df_copy.step % 24"
   ]
  },
  {
   "cell_type": "code",
   "execution_count": 10,
   "metadata": {},
   "outputs": [],
   "source": [
    "first_col = df_u.pop('isFraud')"
   ]
  },
  {
   "cell_type": "code",
   "execution_count": 11,
   "metadata": {},
   "outputs": [],
   "source": [
    "df_u.insert(0, 'isFraud', first_col)"
   ]
  },
  {
   "cell_type": "code",
   "execution_count": 12,
   "metadata": {},
   "outputs": [],
   "source": [
    "sample = df_u.sample(n=10000, random_state=42)"
   ]
  },
  {
   "cell_type": "code",
   "execution_count": 13,
   "metadata": {},
   "outputs": [
    {
     "data": {
      "text/html": [
       "<div>\n",
       "<style scoped>\n",
       "    .dataframe tbody tr th:only-of-type {\n",
       "        vertical-align: middle;\n",
       "    }\n",
       "\n",
       "    .dataframe tbody tr th {\n",
       "        vertical-align: top;\n",
       "    }\n",
       "\n",
       "    .dataframe thead th {\n",
       "        text-align: right;\n",
       "    }\n",
       "</style>\n",
       "<table border=\"1\" class=\"dataframe\">\n",
       "  <thead>\n",
       "    <tr style=\"text-align: right;\">\n",
       "      <th></th>\n",
       "      <th>isFraud</th>\n",
       "      <th>step</th>\n",
       "      <th>type</th>\n",
       "      <th>amount</th>\n",
       "      <th>nameOrig</th>\n",
       "      <th>oldBalanceOrig</th>\n",
       "      <th>newBalanceOrig</th>\n",
       "      <th>nameDest</th>\n",
       "      <th>oldBalanceDest</th>\n",
       "      <th>newBalanceDest</th>\n",
       "      <th>isFlaggedFraud</th>\n",
       "      <th>hourOfDay</th>\n",
       "    </tr>\n",
       "  </thead>\n",
       "  <tbody>\n",
       "    <tr>\n",
       "      <th>3737323</th>\n",
       "      <td>0</td>\n",
       "      <td>278</td>\n",
       "      <td>CASH_IN</td>\n",
       "      <td>330218.42</td>\n",
       "      <td>C632336343</td>\n",
       "      <td>20866.00</td>\n",
       "      <td>351084.42</td>\n",
       "      <td>C834976624</td>\n",
       "      <td>452419.57</td>\n",
       "      <td>122201.15</td>\n",
       "      <td>0</td>\n",
       "      <td>14</td>\n",
       "    </tr>\n",
       "    <tr>\n",
       "      <th>264914</th>\n",
       "      <td>0</td>\n",
       "      <td>15</td>\n",
       "      <td>PAYMENT</td>\n",
       "      <td>11647.08</td>\n",
       "      <td>C1264712553</td>\n",
       "      <td>30370.00</td>\n",
       "      <td>18722.92</td>\n",
       "      <td>M215391829</td>\n",
       "      <td>0.00</td>\n",
       "      <td>0.00</td>\n",
       "      <td>0</td>\n",
       "      <td>15</td>\n",
       "    </tr>\n",
       "    <tr>\n",
       "      <th>85647</th>\n",
       "      <td>0</td>\n",
       "      <td>10</td>\n",
       "      <td>CASH_IN</td>\n",
       "      <td>152264.21</td>\n",
       "      <td>C1746846248</td>\n",
       "      <td>106589.00</td>\n",
       "      <td>258853.21</td>\n",
       "      <td>C1607284477</td>\n",
       "      <td>201303.01</td>\n",
       "      <td>49038.80</td>\n",
       "      <td>0</td>\n",
       "      <td>10</td>\n",
       "    </tr>\n",
       "    <tr>\n",
       "      <th>5899326</th>\n",
       "      <td>0</td>\n",
       "      <td>403</td>\n",
       "      <td>TRANSFER</td>\n",
       "      <td>1551760.63</td>\n",
       "      <td>C333676753</td>\n",
       "      <td>0.00</td>\n",
       "      <td>0.00</td>\n",
       "      <td>C1564353608</td>\n",
       "      <td>3198359.45</td>\n",
       "      <td>4750120.08</td>\n",
       "      <td>0</td>\n",
       "      <td>19</td>\n",
       "    </tr>\n",
       "    <tr>\n",
       "      <th>2544263</th>\n",
       "      <td>0</td>\n",
       "      <td>206</td>\n",
       "      <td>CASH_IN</td>\n",
       "      <td>78172.30</td>\n",
       "      <td>C813403091</td>\n",
       "      <td>2921331.58</td>\n",
       "      <td>2999503.88</td>\n",
       "      <td>C1091768874</td>\n",
       "      <td>415821.90</td>\n",
       "      <td>337649.60</td>\n",
       "      <td>0</td>\n",
       "      <td>14</td>\n",
       "    </tr>\n",
       "  </tbody>\n",
       "</table>\n",
       "</div>"
      ],
      "text/plain": [
       "         isFraud  step      type      amount     nameOrig  oldBalanceOrig  \\\n",
       "3737323        0   278   CASH_IN   330218.42   C632336343        20866.00   \n",
       "264914         0    15   PAYMENT    11647.08  C1264712553        30370.00   \n",
       "85647          0    10   CASH_IN   152264.21  C1746846248       106589.00   \n",
       "5899326        0   403  TRANSFER  1551760.63   C333676753            0.00   \n",
       "2544263        0   206   CASH_IN    78172.30   C813403091      2921331.58   \n",
       "\n",
       "         newBalanceOrig     nameDest  oldBalanceDest  newBalanceDest  \\\n",
       "3737323       351084.42   C834976624       452419.57       122201.15   \n",
       "264914         18722.92   M215391829            0.00            0.00   \n",
       "85647         258853.21  C1607284477       201303.01        49038.80   \n",
       "5899326            0.00  C1564353608      3198359.45      4750120.08   \n",
       "2544263      2999503.88  C1091768874       415821.90       337649.60   \n",
       "\n",
       "         isFlaggedFraud  hourOfDay  \n",
       "3737323               0         14  \n",
       "264914                0         15  \n",
       "85647                 0         10  \n",
       "5899326               0         19  \n",
       "2544263               0         14  "
      ]
     },
     "execution_count": 13,
     "metadata": {},
     "output_type": "execute_result"
    }
   ],
   "source": [
    "sample.head(n=5)"
   ]
  },
  {
   "cell_type": "code",
   "execution_count": 14,
   "metadata": {},
   "outputs": [
    {
     "data": {
      "text/plain": [
       "0    9981\n",
       "1      19\n",
       "Name: isFraud, dtype: int64"
      ]
     },
     "execution_count": 14,
     "metadata": {},
     "output_type": "execute_result"
    }
   ],
   "source": [
    "sample.isFraud.value_counts()"
   ]
  },
  {
   "cell_type": "markdown",
   "metadata": {},
   "source": [
    "From our previous analysis we know that some features can be dropped (**step** and **nameOrig** and **nameDest** and **isFlaggedFraud**)\n",
    "\n",
    "We will re-add the **hourOfDay** and then move **isFraud** to the front"
   ]
  },
  {
   "cell_type": "markdown",
   "metadata": {},
   "source": [
    "We will create a couple of functions:\n",
    "\n",
    "1. **get_feature** to return a cleaned dataset\n",
    "2. **reduce_features** to take advanteg of PCA to compare to the above\n",
    "3. **produce_plot** to plot the data"
   ]
  },
  {
   "cell_type": "code",
   "execution_count": 15,
   "metadata": {},
   "outputs": [],
   "source": [
    "def get_features(df):\n",
    "    \n",
    "    selected_cols = ['type', 'amount', 'oldBalanceOrig', 'newBalanceOrig', 'oldBalanceDest', 'newBalanceDest', 'isFraud', 'hourOfDay']\n",
    "    \n",
    "    df = df[selected_cols].copy()\n",
    "    dummies = pd.get_dummies(df.type)\n",
    "    df = pd.concat([df, dummies], axis=1).drop(\"type\", axis=1)\n",
    "    \n",
    "    return df"
   ]
  },
  {
   "cell_type": "code",
   "execution_count": 16,
   "metadata": {},
   "outputs": [],
   "source": [
    "def reduce_features(pca_df):\n",
    "    \n",
    "    pca_df = pca_df.copy()\n",
    "    target = pca_df.pop(\"isFraud\")\n",
    "    scaler = StandardScaler()\n",
    "    pca_df = scaler.fit_transform(pca_df)\n",
    "    pca = PCA(n_components=2)\n",
    "    components = pca.fit_transform(pca_df)\n",
    "\n",
    "    comp_df = pd.DataFrame(components, columns=[\"X\", \"y\"])\n",
    "    target = target.reset_index(drop=True)\n",
    "    plot_df = pd.concat([comp_df, target], axis=1)\n",
    "    \n",
    "    return plot_df"
   ]
  },
  {
   "cell_type": "code",
   "execution_count": 17,
   "metadata": {},
   "outputs": [],
   "source": [
    "def produce_plot(plot_df, maj_alpha=0.5, min_alpha=1, save=None):\n",
    "    \n",
    "    fig, ax = plt.subplots(figsize=(8, 6))\n",
    "    ax = sns.scatterplot(x=\"X\", y=\"y\", alpha=maj_alpha, data=plot_df[plot_df.isFraud == 0], label=\"Legitimate\")\n",
    "    sns.scatterplot(x=\"X\", y=\"y\", alpha=min_alpha, data=plot_df[plot_df.isFraud == 1], ax=ax, label=\"Fraud\")\n",
    "    plt.title(\"Legitimate vs Fraudulent Purchases\")\n",
    "    plt.tight_layout()\n",
    "    if save != None:\n",
    "        plt.savefig(save)\n",
    "    plt.show()\n",
    "    \n",
    "    pass"
   ]
  },
  {
   "cell_type": "markdown",
   "metadata": {},
   "source": [
    "So let's use tha above on the sample data to see what it looks like before oversampling the data (we will define oversampling in a moment)"
   ]
  },
  {
   "cell_type": "code",
   "execution_count": 16,
   "metadata": {},
   "outputs": [],
   "source": [
    "processed_data = get_features(sample)\n",
    "plot_df        = reduce_features(processed_data)"
   ]
  },
  {
   "cell_type": "code",
   "execution_count": 17,
   "metadata": {},
   "outputs": [
    {
     "data": {
      "image/png": "[encoded data removed]",
      "text/plain": [
       "<Figure size 576x432 with 1 Axes>"
      ]
     },
     "metadata": {},
     "output_type": "display_data"
    }
   ],
   "source": [
    "produce_plot(plot_df)"
   ]
  },
  {
   "cell_type": "markdown",
   "metadata": {},
   "source": [
    "A very pretty scatterplot but unfortunately confirms what we thought, not many (or enough) fraudulent transactions, let's fix that but first we should define what oversampling is"
   ]
  },
  {
   "cell_type": "markdown",
   "metadata": {},
   "source": [
    "There are two that we should investigate and then choose the best one, the first is **Random Undersampling** and **SMOTE**"
   ]
  },
  {
   "cell_type": "markdown",
   "metadata": {},
   "source": [
    "**Random Oversampling** includes selecting random examples from the minority class with replacement and supplementing the training data with multiple copies of this instance, hence it is possible that a single instance may be selected multiple times\n",
    "\n",
    "**Random Undersampling** is the opposite to Random Oversampling. This method seeks to randomly select and remove samples from the majority class, consequently reducing the number of examples in the majority class in the transformed data\n",
    "\n",
    "SMOTE or **Synthetic Minority Oversampling Technique** is an oversampling technique but SMOTE working differently\n",
    "\n",
    "In a classic oversampling technique, the minority data is duplicated from the minority data population. While it increases the number of data points, it does not give any new information or variation to the machine learning model\n",
    "\n",
    "SMOTE works by utilising a **k-nearest neighbour** algorithm to create synthetic data. SMOTE first starts by choosing random data from the minority class, then k-nearest neighbours from the data are set. Synthetic data would then made between the random data and the randomly selected k-nearest neighbour"
   ]
  },
  {
   "cell_type": "markdown",
   "metadata": {},
   "source": [
    "So let's start with **Random Oversampling** but first we will define the method that be be used for either technique"
   ]
  },
  {
   "cell_type": "code",
   "execution_count": 18,
   "metadata": {},
   "outputs": [],
   "source": [
    "def resample(df, method):\n",
    "\n",
    "    processed_df = get_features(df)\n",
    "    target = processed_df.pop('isFraud')\n",
    "\n",
    "    processed_x, processed_y = method.fit_resample(processed_df, target)\n",
    "\n",
    "    cols = list(processed_df.columns) + [\"isFraud\"]\n",
    "\n",
    "    pdf_x = pd.DataFrame(processed_x, columns=processed_df.columns)\n",
    "    pdf_y = pd.DataFrame(processed_y, columns=['isFraud'])\n",
    "    resampled_df = pd.concat([pdf_x, pdf_y], axis=1)\n",
    "    \n",
    "    return resampled_df"
   ]
  },
  {
   "cell_type": "markdown",
   "metadata": {},
   "source": [
    "We need to import the module and then define some attibutes"
   ]
  },
  {
   "cell_type": "code",
   "execution_count": 78,
   "metadata": {},
   "outputs": [],
   "source": [
    "from imblearn.over_sampling import RandomOverSampler"
   ]
  },
  {
   "cell_type": "code",
   "execution_count": 79,
   "metadata": {},
   "outputs": [],
   "source": [
    "ros = RandomOverSampler(sampling_strategy='minority', random_state=42)"
   ]
  },
  {
   "cell_type": "code",
   "execution_count": 80,
   "metadata": {},
   "outputs": [
    {
     "name": "stdout",
     "output_type": "stream",
     "text": [
      "(19962, 12)\n",
      "\n",
      "1    9981\n",
      "0    9981\n",
      "Name: isFraud, dtype: int64\n"
     ]
    }
   ],
   "source": [
    "ros_resampled = resample(sample, ros)\n",
    "print(ros_resampled.shape)\n",
    "print()\n",
    "print(ros_resampled.isFraud.value_counts())"
   ]
  },
  {
   "cell_type": "code",
   "execution_count": 81,
   "metadata": {},
   "outputs": [
    {
     "data": {
      "text/html": [
       "<div>\n",
       "<style scoped>\n",
       "    .dataframe tbody tr th:only-of-type {\n",
       "        vertical-align: middle;\n",
       "    }\n",
       "\n",
       "    .dataframe tbody tr th {\n",
       "        vertical-align: top;\n",
       "    }\n",
       "\n",
       "    .dataframe thead th {\n",
       "        text-align: right;\n",
       "    }\n",
       "</style>\n",
       "<table border=\"1\" class=\"dataframe\">\n",
       "  <thead>\n",
       "    <tr style=\"text-align: right;\">\n",
       "      <th></th>\n",
       "      <th>amount</th>\n",
       "      <th>oldBalanceOrig</th>\n",
       "      <th>newBalanceOrig</th>\n",
       "      <th>oldBalanceDest</th>\n",
       "      <th>newBalanceDest</th>\n",
       "      <th>hourOfDay</th>\n",
       "      <th>CASH_IN</th>\n",
       "      <th>CASH_OUT</th>\n",
       "      <th>DEBIT</th>\n",
       "      <th>PAYMENT</th>\n",
       "      <th>TRANSFER</th>\n",
       "      <th>isFraud</th>\n",
       "    </tr>\n",
       "  </thead>\n",
       "  <tbody>\n",
       "    <tr>\n",
       "      <th>0</th>\n",
       "      <td>330,218.42</td>\n",
       "      <td>20,866.00</td>\n",
       "      <td>351,084.42</td>\n",
       "      <td>452,419.57</td>\n",
       "      <td>122,201.15</td>\n",
       "      <td>14</td>\n",
       "      <td>1</td>\n",
       "      <td>0</td>\n",
       "      <td>0</td>\n",
       "      <td>0</td>\n",
       "      <td>0</td>\n",
       "      <td>0</td>\n",
       "    </tr>\n",
       "    <tr>\n",
       "      <th>1</th>\n",
       "      <td>11,647.08</td>\n",
       "      <td>30,370.00</td>\n",
       "      <td>18,722.92</td>\n",
       "      <td>0.00</td>\n",
       "      <td>0.00</td>\n",
       "      <td>15</td>\n",
       "      <td>0</td>\n",
       "      <td>0</td>\n",
       "      <td>0</td>\n",
       "      <td>1</td>\n",
       "      <td>0</td>\n",
       "      <td>0</td>\n",
       "    </tr>\n",
       "    <tr>\n",
       "      <th>2</th>\n",
       "      <td>152,264.21</td>\n",
       "      <td>106,589.00</td>\n",
       "      <td>258,853.21</td>\n",
       "      <td>201,303.01</td>\n",
       "      <td>49,038.80</td>\n",
       "      <td>10</td>\n",
       "      <td>1</td>\n",
       "      <td>0</td>\n",
       "      <td>0</td>\n",
       "      <td>0</td>\n",
       "      <td>0</td>\n",
       "      <td>0</td>\n",
       "    </tr>\n",
       "    <tr>\n",
       "      <th>3</th>\n",
       "      <td>1,551,760.63</td>\n",
       "      <td>0.00</td>\n",
       "      <td>0.00</td>\n",
       "      <td>3,198,359.45</td>\n",
       "      <td>4,750,120.08</td>\n",
       "      <td>19</td>\n",
       "      <td>0</td>\n",
       "      <td>0</td>\n",
       "      <td>0</td>\n",
       "      <td>0</td>\n",
       "      <td>1</td>\n",
       "      <td>0</td>\n",
       "    </tr>\n",
       "    <tr>\n",
       "      <th>4</th>\n",
       "      <td>78,172.30</td>\n",
       "      <td>2,921,331.58</td>\n",
       "      <td>2,999,503.88</td>\n",
       "      <td>415,821.90</td>\n",
       "      <td>337,649.60</td>\n",
       "      <td>14</td>\n",
       "      <td>1</td>\n",
       "      <td>0</td>\n",
       "      <td>0</td>\n",
       "      <td>0</td>\n",
       "      <td>0</td>\n",
       "      <td>0</td>\n",
       "    </tr>\n",
       "  </tbody>\n",
       "</table>\n",
       "</div>"
      ],
      "text/plain": [
       "        amount  oldBalanceOrig  newBalanceOrig  oldBalanceDest  \\\n",
       "0   330,218.42       20,866.00      351,084.42      452,419.57   \n",
       "1    11,647.08       30,370.00       18,722.92            0.00   \n",
       "2   152,264.21      106,589.00      258,853.21      201,303.01   \n",
       "3 1,551,760.63            0.00            0.00    3,198,359.45   \n",
       "4    78,172.30    2,921,331.58    2,999,503.88      415,821.90   \n",
       "\n",
       "   newBalanceDest  hourOfDay  CASH_IN  CASH_OUT  DEBIT  PAYMENT  TRANSFER  \\\n",
       "0      122,201.15         14        1         0      0        0         0   \n",
       "1            0.00         15        0         0      0        1         0   \n",
       "2       49,038.80         10        1         0      0        0         0   \n",
       "3    4,750,120.08         19        0         0      0        0         1   \n",
       "4      337,649.60         14        1         0      0        0         0   \n",
       "\n",
       "   isFraud  \n",
       "0        0  \n",
       "1        0  \n",
       "2        0  \n",
       "3        0  \n",
       "4        0  "
      ]
     },
     "execution_count": 81,
     "metadata": {},
     "output_type": "execute_result"
    }
   ],
   "source": [
    "ros_resampled.head()"
   ]
  },
  {
   "cell_type": "code",
   "execution_count": 82,
   "metadata": {},
   "outputs": [
    {
     "data": {
      "image/png": "[encoded data removed]",
      "text/plain": [
       "<Figure size 576x432 with 1 Axes>"
      ]
     },
     "metadata": {},
     "output_type": "display_data"
    }
   ],
   "source": [
    "produce_plot(reduce_features(ros_resampled), min_alpha=0.5)"
   ]
  },
  {
   "cell_type": "code",
   "execution_count": 83,
   "metadata": {},
   "outputs": [],
   "source": [
    "from imblearn.under_sampling import RandomUnderSampler"
   ]
  },
  {
   "cell_type": "code",
   "execution_count": 84,
   "metadata": {},
   "outputs": [],
   "source": [
    "rus = RandomUnderSampler(sampling_strategy={0: 9589}, random_state=42)"
   ]
  },
  {
   "cell_type": "code",
   "execution_count": 85,
   "metadata": {},
   "outputs": [
    {
     "name": "stdout",
     "output_type": "stream",
     "text": [
      "(17802, 12)\n",
      "\n",
      "0    9589\n",
      "1    8213\n",
      "Name: isFraud, dtype: int64\n"
     ]
    }
   ],
   "source": [
    "rus_resampled = resample(df_u, rus)\n",
    "print(rus_resampled.shape)\n",
    "print()\n",
    "print(rus_resampled.isFraud.value_counts())"
   ]
  },
  {
   "cell_type": "code",
   "execution_count": 86,
   "metadata": {},
   "outputs": [
    {
     "data": {
      "text/html": [
       "<div>\n",
       "<style scoped>\n",
       "    .dataframe tbody tr th:only-of-type {\n",
       "        vertical-align: middle;\n",
       "    }\n",
       "\n",
       "    .dataframe tbody tr th {\n",
       "        vertical-align: top;\n",
       "    }\n",
       "\n",
       "    .dataframe thead th {\n",
       "        text-align: right;\n",
       "    }\n",
       "</style>\n",
       "<table border=\"1\" class=\"dataframe\">\n",
       "  <thead>\n",
       "    <tr style=\"text-align: right;\">\n",
       "      <th></th>\n",
       "      <th>amount</th>\n",
       "      <th>oldBalanceOrig</th>\n",
       "      <th>newBalanceOrig</th>\n",
       "      <th>oldBalanceDest</th>\n",
       "      <th>newBalanceDest</th>\n",
       "      <th>hourOfDay</th>\n",
       "      <th>CASH_IN</th>\n",
       "      <th>CASH_OUT</th>\n",
       "      <th>DEBIT</th>\n",
       "      <th>PAYMENT</th>\n",
       "      <th>TRANSFER</th>\n",
       "      <th>isFraud</th>\n",
       "    </tr>\n",
       "  </thead>\n",
       "  <tbody>\n",
       "    <tr>\n",
       "      <th>0</th>\n",
       "      <td>183,806.32</td>\n",
       "      <td>19,391.00</td>\n",
       "      <td>0.00</td>\n",
       "      <td>382,572.19</td>\n",
       "      <td>566,378.51</td>\n",
       "      <td>18</td>\n",
       "      <td>0</td>\n",
       "      <td>1</td>\n",
       "      <td>0</td>\n",
       "      <td>0</td>\n",
       "      <td>0</td>\n",
       "      <td>0</td>\n",
       "    </tr>\n",
       "    <tr>\n",
       "      <th>1</th>\n",
       "      <td>521.37</td>\n",
       "      <td>0.00</td>\n",
       "      <td>0.00</td>\n",
       "      <td>0.00</td>\n",
       "      <td>0.00</td>\n",
       "      <td>17</td>\n",
       "      <td>0</td>\n",
       "      <td>0</td>\n",
       "      <td>0</td>\n",
       "      <td>1</td>\n",
       "      <td>0</td>\n",
       "      <td>0</td>\n",
       "    </tr>\n",
       "    <tr>\n",
       "      <th>2</th>\n",
       "      <td>3,478.18</td>\n",
       "      <td>19,853.00</td>\n",
       "      <td>16,374.82</td>\n",
       "      <td>0.00</td>\n",
       "      <td>0.00</td>\n",
       "      <td>11</td>\n",
       "      <td>0</td>\n",
       "      <td>0</td>\n",
       "      <td>0</td>\n",
       "      <td>1</td>\n",
       "      <td>0</td>\n",
       "      <td>0</td>\n",
       "    </tr>\n",
       "    <tr>\n",
       "      <th>3</th>\n",
       "      <td>1,716.05</td>\n",
       "      <td>5,769.17</td>\n",
       "      <td>4,053.13</td>\n",
       "      <td>0.00</td>\n",
       "      <td>0.00</td>\n",
       "      <td>19</td>\n",
       "      <td>0</td>\n",
       "      <td>0</td>\n",
       "      <td>0</td>\n",
       "      <td>1</td>\n",
       "      <td>0</td>\n",
       "      <td>0</td>\n",
       "    </tr>\n",
       "    <tr>\n",
       "      <th>4</th>\n",
       "      <td>253,129.93</td>\n",
       "      <td>1,328,499.49</td>\n",
       "      <td>1,581,629.42</td>\n",
       "      <td>2,713,220.48</td>\n",
       "      <td>2,460,090.55</td>\n",
       "      <td>18</td>\n",
       "      <td>1</td>\n",
       "      <td>0</td>\n",
       "      <td>0</td>\n",
       "      <td>0</td>\n",
       "      <td>0</td>\n",
       "      <td>0</td>\n",
       "    </tr>\n",
       "  </tbody>\n",
       "</table>\n",
       "</div>"
      ],
      "text/plain": [
       "      amount  oldBalanceOrig  newBalanceOrig  oldBalanceDest  newBalanceDest  \\\n",
       "0 183,806.32       19,391.00            0.00      382,572.19      566,378.51   \n",
       "1     521.37            0.00            0.00            0.00            0.00   \n",
       "2   3,478.18       19,853.00       16,374.82            0.00            0.00   \n",
       "3   1,716.05        5,769.17        4,053.13            0.00            0.00   \n",
       "4 253,129.93    1,328,499.49    1,581,629.42    2,713,220.48    2,460,090.55   \n",
       "\n",
       "   hourOfDay  CASH_IN  CASH_OUT  DEBIT  PAYMENT  TRANSFER  isFraud  \n",
       "0         18        0         1      0        0         0        0  \n",
       "1         17        0         0      0        1         0        0  \n",
       "2         11        0         0      0        1         0        0  \n",
       "3         19        0         0      0        1         0        0  \n",
       "4         18        1         0      0        0         0        0  "
      ]
     },
     "execution_count": 86,
     "metadata": {},
     "output_type": "execute_result"
    }
   ],
   "source": [
    "rus_resampled.head()"
   ]
  },
  {
   "cell_type": "code",
   "execution_count": 87,
   "metadata": {},
   "outputs": [
    {
     "data": {
      "image/png": "[encoded data removed]",
      "text/plain": [
       "<Figure size 576x432 with 1 Axes>"
      ]
     },
     "metadata": {},
     "output_type": "display_data"
    }
   ],
   "source": [
    "produce_plot(reduce_features(rus_resampled), min_alpha=0.5)"
   ]
  },
  {
   "cell_type": "code",
   "execution_count": 19,
   "metadata": {},
   "outputs": [],
   "source": [
    "from imblearn.over_sampling import SMOTE"
   ]
  },
  {
   "cell_type": "code",
   "execution_count": 20,
   "metadata": {},
   "outputs": [],
   "source": [
    "sm = SMOTE(random_state=42)"
   ]
  },
  {
   "cell_type": "code",
   "execution_count": 21,
   "metadata": {},
   "outputs": [
    {
     "name": "stdout",
     "output_type": "stream",
     "text": [
      "(12708814, 12)\n",
      "\n",
      "1    6354407\n",
      "0    6354407\n",
      "Name: isFraud, dtype: int64\n"
     ]
    }
   ],
   "source": [
    "sm_resampled = resample(df_u, sm)\n",
    "print(sm_resampled.shape)\n",
    "print()\n",
    "print(sm_resampled.isFraud.value_counts())"
   ]
  },
  {
   "cell_type": "code",
   "execution_count": 22,
   "metadata": {},
   "outputs": [],
   "source": [
    "sm_sample = sm_resampled.sample(n=10000, random_state=42)"
   ]
  },
  {
   "cell_type": "code",
   "execution_count": 23,
   "metadata": {},
   "outputs": [
    {
     "data": {
      "image/png": "[encoded data removed]",
      "text/plain": [
       "<Figure size 576x432 with 1 Axes>"
      ]
     },
     "metadata": {},
     "output_type": "display_data"
    }
   ],
   "source": [
    "produce_plot(reduce_features(sm_sample), min_alpha=0.5)"
   ]
  },
  {
   "cell_type": "markdown",
   "metadata": {},
   "source": [
    "Let's go back and resample the data now that we have some more representative data points"
   ]
  },
  {
   "cell_type": "code",
   "execution_count": null,
   "metadata": {},
   "outputs": [],
   "source": [
    "first_col = rus_resampled.pop('isFraud')\n",
    "rus_resampled.insert(0, 'isFraud', first_col)"
   ]
  },
  {
   "cell_type": "code",
   "execution_count": null,
   "metadata": {},
   "outputs": [],
   "source": [
    "X = rus_resampled.drop('isFraud', 1)\n",
    "y = rus_resampled.isFraud"
   ]
  },
  {
   "cell_type": "code",
   "execution_count": null,
   "metadata": {},
   "outputs": [],
   "source": [
    "# X.head(n=5)\n",
    "# X.shape"
   ]
  },
  {
   "cell_type": "code",
   "execution_count": null,
   "metadata": {},
   "outputs": [],
   "source": [
    "# y.head(n=5)\n",
    "# X.shape"
   ]
  },
  {
   "cell_type": "code",
   "execution_count": null,
   "metadata": {},
   "outputs": [],
   "source": [
    "train_ratio = 0.70\n",
    "validation_ratio = 0.15\n",
    "test_ratio = 0.15\n",
    "\n",
    "X_train, X_test, y_train, y_test = train_test_split(X, y, test_size = 1 - train_ratio)\n",
    "# X_train, X_test, y_train, y_test = train_test_split(X, y, test_size = 1 - train_ratio, random_state=42, shuffle=True, stratify=y)\n",
    "\n",
    "X_val, X_test, y_val, y_test = train_test_split(X_test, y_test, test_size=test_ratio/(test_ratio + validation_ratio)) \n",
    "# X_val, X_test, y_val, y_test = train_test_split(X_test, y_test, test_size=test_ratio/(test_ratio + validation_ratio), random_state=42, shuffle=True, stratify=y) \n",
    "\n",
    "# print(X_train, X_val, X_test)"
   ]
  },
  {
   "cell_type": "code",
   "execution_count": null,
   "metadata": {},
   "outputs": [],
   "source": [
    "# X_train, X_val, X_test = np.split(rus_resampled.sample(frac=1), [int(0.7 * len(rus_resampled)), int(0.9 * len(rus_resampled))])"
   ]
  },
  {
   "cell_type": "markdown",
   "metadata": {},
   "source": [
    "Once again we have to apply the scaler"
   ]
  },
  {
   "cell_type": "code",
   "execution_count": null,
   "metadata": {},
   "outputs": [],
   "source": [
    "scaler = MinMaxScaler()\n",
    "# scaler = RobustScaler()\n",
    "# scaler = StandardScaler()\n",
    "\n",
    "scaler.fit(X_train)"
   ]
  },
  {
   "cell_type": "code",
   "execution_count": null,
   "metadata": {},
   "outputs": [],
   "source": [
    "X_train = scaler.transform(X_train)\n",
    "X_test = scaler.transform(X_test)\n",
    "X_val = scaler.transform(X_val)"
   ]
  },
  {
   "cell_type": "code",
   "execution_count": null,
   "metadata": {},
   "outputs": [],
   "source": [
    "np.savetxt('train.csv', X_train, delimiter=',')\n",
    "np.savetxt('test.csv', X_test, delimiter=',')\n",
    "np.savetxt('validation.csv', X_val, delimiter=',')"
   ]
  },
  {
   "cell_type": "code",
   "execution_count": null,
   "metadata": {},
   "outputs": [],
   "source": [
    "boto3.Session().resource('s3').Bucket(bucket).Object(os.path.join(prefix, 'train/train.csv')).upload_file('train.csv')\n",
    "s3_train_location = 's3://{}/{}/train'.format(bucket, prefix)\n",
    "print('Uploaded training data location: {}'.format(s3_train_location))\n",
    "\n",
    "boto3.Session().resource('s3').Bucket(bucket).Object(os.path.join(prefix, 'test/test.csv')).upload_file('test.csv')\n",
    "s3_test_location = 's3://{}/{}/test'.format(bucket, prefix)\n",
    "print('Uploaded test data location: {}'.format(s3_test_location))\n",
    "\n",
    "boto3.Session().resource('s3').Bucket(bucket).Object(os.path.join(prefix, 'validation/validation.csv')).upload_file('validation.csv')\n",
    "s3_validation_location = 's3://{}/{}/validation'.format(bucket, prefix)\n",
    "print('Uploaded validation data location: {}'.format(s3_validation_location))\n",
    "\n",
    "s3_output_location = 's3://{}/{}/output'.format(bucket, prefix)\n",
    "print('Training artifacts will be uploaded to: {}'.format(s3_output_location))"
   ]
  },
  {
   "cell_type": "code",
   "execution_count": null,
   "metadata": {},
   "outputs": [],
   "source": [
    "s3_input_train = sagemaker.inputs.TrainingInput(\"s3://{}/{}/{}/\".format(bucket, prefix, 'train'), content_type='text/csv')\n",
    "\n",
    "s3_input_validation = sagemaker.inputs.TrainingInput(\"s3://{}/{}/{}/\".format(bucket, prefix, 'validation'), content_type='text/csv')"
   ]
  },
  {
   "cell_type": "markdown",
   "metadata": {},
   "source": [
    "We now have all the files uploaded to S3 so it is time to define the XGBoost parameters"
   ]
  },
  {
   "cell_type": "code",
   "execution_count": null,
   "metadata": {},
   "outputs": [],
   "source": [
    "xgboost_container = sagemaker.image_uris.retrieve('xgboost', boto3.Session().region_name, 'latest')"
   ]
  },
  {
   "cell_type": "code",
   "execution_count": null,
   "metadata": {},
   "outputs": [],
   "source": [
    "instance_type='ml.m5.xlarge'\n",
    "\n",
    "hyperparameters = {\n",
    "        \"alpha\":\"0.2\",\n",
    "        \"max_depth\":\"10\",\n",
    "        \"eta\":\"0.12\",\n",
    "        \"gamma\":\"2.0\",\n",
    "        \"min_child_weight\":\"8.5\",\n",
    "        \"subsample\":\"0.6\",\n",
    "        \"objective\":\"binary:logistic\",\n",
    "        \"num_round\":\"20\",\n",
    "        \"eval_metric\":\"auc\"\n",
    "        }"
   ]
  },
  {
   "cell_type": "code",
   "execution_count": null,
   "metadata": {},
   "outputs": [],
   "source": [
    "smote_xgb = sagemaker.estimator.Estimator(image_uri=xgboost_container,\n",
    "                                          hyperparameters=hyperparameters,\n",
    "                                          role=sagemaker.get_execution_role(), \n",
    "                                          instance_count=1, \n",
    "                                          instance_type=instance_type,\n",
    "                                          output_path=s3_output_location,\n",
    "                                          sagemaker_session=sess)"
   ]
  },
  {
   "cell_type": "code",
   "execution_count": null,
   "metadata": {},
   "outputs": [],
   "source": [
    "%%time\n",
    "smote_xgb.fit({'train': s3_input_train, 'validation': s3_input_validation})"
   ]
  },
  {
   "cell_type": "markdown",
   "metadata": {},
   "source": [
    "The model is now created so it is time to deploy the endpoint to test"
   ]
  },
  {
   "cell_type": "code",
   "execution_count": null,
   "metadata": {},
   "outputs": [],
   "source": [
    "%%time\n",
    "smote_predictor = smote_xgb.deploy(initial_instance_count=1,\n",
    "                                   model_name=\"xgb-smote-model-01\",\n",
    "                                   endpoint_name=\"xgb-smote-endpoint-01\",\n",
    "                                   instance_type=instance_type,\n",
    "                                   serializer=CSVSerializer(),\n",
    "                                   deserializer=None)"
   ]
  },
  {
   "cell_type": "code",
   "execution_count": null,
   "metadata": {},
   "outputs": [],
   "source": [
    "# use if already deployed\n",
    "\n",
    "# endpoint_name = \"xgb-smote-endpoint-01\"\n",
    "# smote_predictor = sagemaker.predictor.Predictor(endpoint_name=endpoint_name)"
   ]
  },
  {
   "cell_type": "code",
   "execution_count": null,
   "metadata": {},
   "outputs": [],
   "source": [
    "def predict(current_predictor, data, rows=500):\n",
    "    split_array = np.array_split(data, int(data.shape[0] / float(rows) + 1))\n",
    "    predictions = ''\n",
    "    for array in split_array:\n",
    "        predictions = ','.join([predictions, current_predictor.predict(array).decode('utf-8')])\n",
    "\n",
    "    return np.fromstring(predictions[1:], sep=',')"
   ]
  },
  {
   "cell_type": "code",
   "execution_count": null,
   "metadata": {},
   "outputs": [],
   "source": []
  },
  {
   "cell_type": "code",
   "execution_count": null,
   "metadata": {},
   "outputs": [],
   "source": [
    "%%time\n",
    "smote_raw_predictions = predict(smote_predictor, X_test[:, 1:])"
   ]
  },
  {
   "cell_type": "code",
   "execution_count": null,
   "metadata": {},
   "outputs": [],
   "source": [
    "smote_predictions = np.where(smote_raw_predictions > 0.5, 1, 0)"
   ]
  },
  {
   "cell_type": "code",
   "execution_count": null,
   "metadata": {},
   "outputs": [],
   "source": [
    "%%time\n",
    "y_train_preds = predict(smote_predictor, X_train[:, 1:])"
   ]
  },
  {
   "cell_type": "code",
   "execution_count": null,
   "metadata": {},
   "outputs": [],
   "source": [
    "%%time\n",
    "y_valid_preds = predict(smote_predictor, X_val[:, 1:])"
   ]
  },
  {
   "cell_type": "code",
   "execution_count": null,
   "metadata": {},
   "outputs": [],
   "source": []
  },
  {
   "cell_type": "code",
   "execution_count": null,
   "metadata": {},
   "outputs": [],
   "source": [
    "def calc_specificity(y_actual, y_pred, thresh):\n",
    "    # calculates specificity\n",
    "    return sum((y_pred < thresh) & (y_actual == 0)) /sum(y_actual ==0)\n",
    "\n",
    "def print_report(y_actual, y_pred, thresh):\n",
    "    \n",
    "    auc = roc_auc_score(y_actual, y_pred)\n",
    "    accuracy = accuracy_score(y_actual, (y_pred > thresh))\n",
    "    recall = recall_score(y_actual, (y_pred > thresh))\n",
    "    precision = precision_score(y_actual, (y_pred > thresh))\n",
    "    specificity = calc_specificity(y_actual, y_pred, thresh)\n",
    "\n",
    "    print('AUC:%.3f'%auc)\n",
    "    print('accuracy:%.3f'%accuracy)\n",
    "    print('recall:%.3f'%recall)\n",
    "    print('precision:%.3f'%precision)\n",
    "    print('specificity:%.3f'%specificity)\n",
    "    print(' ')\n",
    "    return auc, accuracy, recall, precision, specificity"
   ]
  },
  {
   "cell_type": "code",
   "execution_count": null,
   "metadata": {},
   "outputs": [],
   "source": []
  },
  {
   "cell_type": "code",
   "execution_count": null,
   "metadata": {},
   "outputs": [],
   "source": [
    "thresh = 0.5\n",
    "\n",
    "print('XGBoost Classifier')\n",
    "print('Training:')\n",
    "xgb_train_auc, xgb_train_accuracy, xgb_train_recall, xgb_train_precision, xgb_train_specificity = print_report(y_train, y_train_preds, thresh)\n",
    "\n",
    "print('Validation:')\n",
    "xgb_valid_auc, xgb_valid_accuracy, xgb_valid_recall, xgb_valid_precision, xgb_valid_specificity = print_report(y_val, y_valid_preds, thresh)"
   ]
  },
  {
   "cell_type": "code",
   "execution_count": null,
   "metadata": {},
   "outputs": [],
   "source": []
  },
  {
   "cell_type": "code",
   "execution_count": null,
   "metadata": {},
   "outputs": [],
   "source": [
    "def plot_confusion_matrix(y_test, y_pred):\n",
    "\n",
    "    cm  = confusion_matrix(y_test, y_pred)\n",
    "    # Get the per-class normalized value for each cell\n",
    "    cm_norm = cm.astype('float') / cm.sum(axis=1)[:, np.newaxis]\n",
    "    \n",
    "    # We color each cell according to its normalized value, annotate with exact counts.\n",
    "    ax = sns.heatmap(cm_norm, annot=cm, fmt=\"d\", cmap=\"Blues\")\n",
    "    ax.set(xticklabels=[\"non-fraud\", \"fraud\"], yticklabels=[\"non-fraud\", \"fraud\"])\n",
    "    ax.set_ylim([0,2])\n",
    "    plt.title('Confusion Matrix')\n",
    "    plt.ylabel('Real Label')\n",
    "    plt.xlabel('Predicted Label')\n",
    "    plt.show()"
   ]
  },
  {
   "cell_type": "code",
   "execution_count": null,
   "metadata": {},
   "outputs": [],
   "source": []
  },
  {
   "cell_type": "code",
   "execution_count": null,
   "metadata": {},
   "outputs": [],
   "source": [
    "from sklearn.metrics import balanced_accuracy_score, cohen_kappa_score\n",
    "\n",
    "print(\"Balanced accuracy = {}\".format(balanced_accuracy_score(y_test, smote_predictions)))\n",
    "print(\"Cohen's Kappa = {}\".format(cohen_kappa_score(y_test, smote_predictions)))"
   ]
  },
  {
   "cell_type": "code",
   "execution_count": null,
   "metadata": {},
   "outputs": [],
   "source": [
    "plot_confusion_matrix(y_test, smote_predictions)"
   ]
  },
  {
   "cell_type": "code",
   "execution_count": null,
   "metadata": {},
   "outputs": [],
   "source": []
  },
  {
   "cell_type": "code",
   "execution_count": null,
   "metadata": {},
   "outputs": [],
   "source": [
    "from sklearn import metrics\n",
    "\n",
    "auc = round(roc_auc_score(y_test, y_pred), 4)\n",
    "print('AUC is ' + repr(auc))\n",
    "\n",
    "fpr, tpr, _ = metrics.roc_curve(y_test, y_pred)\n",
    "\n",
    "plt.title('ROC Curve')\n",
    "plt.plot(fpr, tpr, 'b',\n",
    "label='AUC = %0.2f'% auc)\n",
    "plt.legend(loc='lower right')\n",
    "plt.plot([0,1],[0,1],'r--')\n",
    "plt.xlim([-0.1,1.1])\n",
    "plt.ylim([-0.1,1.1])\n",
    "plt.ylabel('True Positive Rate')\n",
    "plt.xlabel('False Positive Rate')\n",
    "plt.show()"
   ]
  },
  {
   "cell_type": "code",
   "execution_count": null,
   "metadata": {},
   "outputs": [],
   "source": []
  },
  {
   "cell_type": "code",
   "execution_count": null,
   "metadata": {},
   "outputs": [],
   "source": []
  },
  {
   "cell_type": "code",
   "execution_count": null,
   "metadata": {},
   "outputs": [],
   "source": []
  },
  {
   "cell_type": "code",
   "execution_count": null,
   "metadata": {},
   "outputs": [],
   "source": [
    "smote_predictor.delete_model()\n",
    "smote_predictor.delete_endpoint()\n",
    "sm_client = boto3.client('sagemaker', region_name=boto3.Session().region_name)\n",
    "waiter = sm_client.get_waiter('endpoint_deleted')\n",
    "waiter.wait(EndpointName=\"xgb-smote-endpoint-01\")"
   ]
  }
 ],
 "metadata": {
  "instance_type": "ml.t3.medium",
  "kernelspec": {
   "display_name": "conda_python3",
   "language": "python",
   "name": "conda_python3"
  },
  "language_info": {
   "codemirror_mode": {
    "name": "ipython",
    "version": 3
   },
   "file_extension": ".py",
   "mimetype": "text/x-python",
   "name": "python",
   "nbconvert_exporter": "python",
   "pygments_lexer": "ipython3",
   "version": "3.6.10"
  }
 },
 "nbformat": 4,
 "nbformat_minor": 4
}
